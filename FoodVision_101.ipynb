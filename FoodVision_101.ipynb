{
  "nbformat": 4,
  "nbformat_minor": 0,
  "metadata": {
    "colab": {
      "name": "FoodVision_101.ipynb",
      "provenance": [],
      "collapsed_sections": [],
      "mount_file_id": "1PAa3W7qvVNohf32xgMJndyQCXxhJIjEF",
      "authorship_tag": "ABX9TyNmA6AgObMWfG1lIrLMGhor",
      "include_colab_link": true
    },
    "kernelspec": {
      "name": "python3",
      "display_name": "Python 3"
    },
    "language_info": {
      "name": "python"
    },
    "accelerator": "GPU"
  },
  "cells": [
    {
      "cell_type": "markdown",
      "metadata": {
        "id": "view-in-github",
        "colab_type": "text"
      },
      "source": [
        "<a href=\"https://colab.research.google.com/github/Cclavijo97/FoodVision_101-AI/blob/main/FoodVision_101.ipynb\" target=\"_parent\"><img src=\"https://colab.research.google.com/assets/colab-badge.svg\" alt=\"Open In Colab\"/></a>"
      ]
    },
    {
      "cell_type": "code",
      "source": [
        "!nvidia-smi -L"
      ],
      "metadata": {
        "colab": {
          "base_uri": "https://localhost:8080/"
        },
        "id": "rW0za2qqcVhr",
        "outputId": "c39cb167-14d9-4417-f466-3259562b4fff"
      },
      "execution_count": 2,
      "outputs": [
        {
          "output_type": "stream",
          "name": "stdout",
          "text": [
            "GPU 0: Tesla T4 (UUID: GPU-7c801d6f-ccab-0d3a-046d-2e30a3ef071e)\n"
          ]
        }
      ]
    },
    {
      "cell_type": "code",
      "execution_count": 3,
      "metadata": {
        "colab": {
          "base_uri": "https://localhost:8080/"
        },
        "id": "XYQFXp9j72OU",
        "outputId": "3da5869a-2f06-41af-ddfb-5503fbc061b2"
      },
      "outputs": [
        {
          "output_type": "stream",
          "name": "stdout",
          "text": [
            "--2022-05-09 08:36:30--  https://raw.githubusercontent.com/mrdbourke/tensorflow-deep-learning/main/extras/helper_functions.py\n",
            "Resolving raw.githubusercontent.com (raw.githubusercontent.com)... 185.199.109.133, 185.199.108.133, 185.199.110.133, ...\n",
            "Connecting to raw.githubusercontent.com (raw.githubusercontent.com)|185.199.109.133|:443... connected.\n",
            "HTTP request sent, awaiting response... 200 OK\n",
            "Length: 10246 (10K) [text/plain]\n",
            "Saving to: ‘helper_functions.py.2’\n",
            "\n",
            "\rhelper_functions.py   0%[                    ]       0  --.-KB/s               \rhelper_functions.py 100%[===================>]  10.01K  --.-KB/s    in 0s      \n",
            "\n",
            "2022-05-09 08:36:30 (115 MB/s) - ‘helper_functions.py.2’ saved [10246/10246]\n",
            "\n"
          ]
        }
      ],
      "source": [
        "#Get pre-made helper functions\n",
        "!wget https://raw.githubusercontent.com/mrdbourke/tensorflow-deep-learning/main/extras/helper_functions.py"
      ]
    },
    {
      "cell_type": "code",
      "source": [
        "from helper_functions import create_tensorboard_callback, plot_loss_curves, compare_historys"
      ],
      "metadata": {
        "id": "PGuHImgy8Px3"
      },
      "execution_count": 4,
      "outputs": []
    },
    {
      "cell_type": "code",
      "source": [
        "import tensorflow as tf\n",
        "import tensorflow_datasets as tfds"
      ],
      "metadata": {
        "id": "vS7g6vlW8aQ8"
      },
      "execution_count": 5,
      "outputs": []
    },
    {
      "cell_type": "code",
      "source": [
        "dataset_list=tfds.list_builders()\n",
        "dataset_list"
      ],
      "metadata": {
        "colab": {
          "base_uri": "https://localhost:8080/"
        },
        "id": "x4Vk_XY98fSE",
        "outputId": "d84b1ed3-6d7f-4fd9-aea3-3a6bc656b85e"
      },
      "execution_count": 6,
      "outputs": [
        {
          "output_type": "execute_result",
          "data": {
            "text/plain": [
              "['abstract_reasoning',\n",
              " 'accentdb',\n",
              " 'aeslc',\n",
              " 'aflw2k3d',\n",
              " 'ag_news_subset',\n",
              " 'ai2_arc',\n",
              " 'ai2_arc_with_ir',\n",
              " 'amazon_us_reviews',\n",
              " 'anli',\n",
              " 'arc',\n",
              " 'bair_robot_pushing_small',\n",
              " 'bccd',\n",
              " 'beans',\n",
              " 'big_patent',\n",
              " 'bigearthnet',\n",
              " 'billsum',\n",
              " 'binarized_mnist',\n",
              " 'binary_alpha_digits',\n",
              " 'blimp',\n",
              " 'bool_q',\n",
              " 'c4',\n",
              " 'caltech101',\n",
              " 'caltech_birds2010',\n",
              " 'caltech_birds2011',\n",
              " 'cars196',\n",
              " 'cassava',\n",
              " 'cats_vs_dogs',\n",
              " 'celeb_a',\n",
              " 'celeb_a_hq',\n",
              " 'cfq',\n",
              " 'chexpert',\n",
              " 'cifar10',\n",
              " 'cifar100',\n",
              " 'cifar10_1',\n",
              " 'cifar10_corrupted',\n",
              " 'citrus_leaves',\n",
              " 'cityscapes',\n",
              " 'civil_comments',\n",
              " 'clevr',\n",
              " 'clic',\n",
              " 'clinc_oos',\n",
              " 'cmaterdb',\n",
              " 'cnn_dailymail',\n",
              " 'coco',\n",
              " 'coco_captions',\n",
              " 'coil100',\n",
              " 'colorectal_histology',\n",
              " 'colorectal_histology_large',\n",
              " 'common_voice',\n",
              " 'coqa',\n",
              " 'cos_e',\n",
              " 'cosmos_qa',\n",
              " 'covid19sum',\n",
              " 'crema_d',\n",
              " 'curated_breast_imaging_ddsm',\n",
              " 'cycle_gan',\n",
              " 'deep_weeds',\n",
              " 'definite_pronoun_resolution',\n",
              " 'dementiabank',\n",
              " 'diabetic_retinopathy_detection',\n",
              " 'div2k',\n",
              " 'dmlab',\n",
              " 'downsampled_imagenet',\n",
              " 'dsprites',\n",
              " 'dtd',\n",
              " 'duke_ultrasound',\n",
              " 'emnist',\n",
              " 'eraser_multi_rc',\n",
              " 'esnli',\n",
              " 'eurosat',\n",
              " 'fashion_mnist',\n",
              " 'flic',\n",
              " 'flores',\n",
              " 'food101',\n",
              " 'forest_fires',\n",
              " 'fuss',\n",
              " 'gap',\n",
              " 'geirhos_conflict_stimuli',\n",
              " 'genomics_ood',\n",
              " 'german_credit_numeric',\n",
              " 'gigaword',\n",
              " 'glue',\n",
              " 'goemotions',\n",
              " 'gpt3',\n",
              " 'groove',\n",
              " 'gtzan',\n",
              " 'gtzan_music_speech',\n",
              " 'hellaswag',\n",
              " 'higgs',\n",
              " 'horses_or_humans',\n",
              " 'i_naturalist2017',\n",
              " 'imagenet2012',\n",
              " 'imagenet2012_corrupted',\n",
              " 'imagenet2012_real',\n",
              " 'imagenet2012_subset',\n",
              " 'imagenet_a',\n",
              " 'imagenet_r',\n",
              " 'imagenet_resized',\n",
              " 'imagenet_v2',\n",
              " 'imagenette',\n",
              " 'imagewang',\n",
              " 'imdb_reviews',\n",
              " 'irc_disentanglement',\n",
              " 'iris',\n",
              " 'kitti',\n",
              " 'kmnist',\n",
              " 'lfw',\n",
              " 'librispeech',\n",
              " 'librispeech_lm',\n",
              " 'libritts',\n",
              " 'ljspeech',\n",
              " 'lm1b',\n",
              " 'lost_and_found',\n",
              " 'lsun',\n",
              " 'malaria',\n",
              " 'math_dataset',\n",
              " 'mctaco',\n",
              " 'mnist',\n",
              " 'mnist_corrupted',\n",
              " 'movie_lens',\n",
              " 'movie_rationales',\n",
              " 'movielens',\n",
              " 'moving_mnist',\n",
              " 'multi_news',\n",
              " 'multi_nli',\n",
              " 'multi_nli_mismatch',\n",
              " 'natural_questions',\n",
              " 'natural_questions_open',\n",
              " 'newsroom',\n",
              " 'nsynth',\n",
              " 'nyu_depth_v2',\n",
              " 'omniglot',\n",
              " 'open_images_challenge2019_detection',\n",
              " 'open_images_v4',\n",
              " 'openbookqa',\n",
              " 'opinion_abstracts',\n",
              " 'opinosis',\n",
              " 'opus',\n",
              " 'oxford_flowers102',\n",
              " 'oxford_iiit_pet',\n",
              " 'para_crawl',\n",
              " 'patch_camelyon',\n",
              " 'paws_wiki',\n",
              " 'paws_x_wiki',\n",
              " 'pet_finder',\n",
              " 'pg19',\n",
              " 'places365_small',\n",
              " 'plant_leaves',\n",
              " 'plant_village',\n",
              " 'plantae_k',\n",
              " 'qa4mre',\n",
              " 'qasc',\n",
              " 'quickdraw_bitmap',\n",
              " 'radon',\n",
              " 'reddit',\n",
              " 'reddit_disentanglement',\n",
              " 'reddit_tifu',\n",
              " 'resisc45',\n",
              " 'robonet',\n",
              " 'rock_paper_scissors',\n",
              " 'rock_you',\n",
              " 'salient_span_wikipedia',\n",
              " 'samsum',\n",
              " 'savee',\n",
              " 'scan',\n",
              " 'scene_parse150',\n",
              " 'scicite',\n",
              " 'scientific_papers',\n",
              " 'sentiment140',\n",
              " 'shapes3d',\n",
              " 'smallnorb',\n",
              " 'snli',\n",
              " 'so2sat',\n",
              " 'speech_commands',\n",
              " 'spoken_digit',\n",
              " 'squad',\n",
              " 'stanford_dogs',\n",
              " 'stanford_online_products',\n",
              " 'starcraft_video',\n",
              " 'stl10',\n",
              " 'sun397',\n",
              " 'super_glue',\n",
              " 'svhn_cropped',\n",
              " 'ted_hrlr_translate',\n",
              " 'ted_multi_translate',\n",
              " 'tedlium',\n",
              " 'tf_flowers',\n",
              " 'the300w_lp',\n",
              " 'tiny_shakespeare',\n",
              " 'titanic',\n",
              " 'trec',\n",
              " 'trivia_qa',\n",
              " 'tydi_qa',\n",
              " 'uc_merced',\n",
              " 'ucf101',\n",
              " 'vctk',\n",
              " 'vgg_face2',\n",
              " 'visual_domain_decathlon',\n",
              " 'voc',\n",
              " 'voxceleb',\n",
              " 'voxforge',\n",
              " 'waymo_open_dataset',\n",
              " 'web_questions',\n",
              " 'wider_face',\n",
              " 'wiki40b',\n",
              " 'wikihow',\n",
              " 'wikipedia',\n",
              " 'wikipedia_toxicity_subtypes',\n",
              " 'wine_quality',\n",
              " 'winogrande',\n",
              " 'wmt14_translate',\n",
              " 'wmt15_translate',\n",
              " 'wmt16_translate',\n",
              " 'wmt17_translate',\n",
              " 'wmt18_translate',\n",
              " 'wmt19_translate',\n",
              " 'wmt_t2t_translate',\n",
              " 'wmt_translate',\n",
              " 'wordnet',\n",
              " 'xnli',\n",
              " 'xquad',\n",
              " 'xsum',\n",
              " 'yelp_polarity_reviews',\n",
              " 'yes_no']"
            ]
          },
          "metadata": {},
          "execution_count": 6
        }
      ]
    },
    {
      "cell_type": "code",
      "source": [
        "#Load in the data\n",
        "(train_data, test_data), ds_info = tfds.load(name=\"food101\",\n",
        "                                             split=[\"train\", \"validation\"],\n",
        "                                             shuffle_files=False,\n",
        "                                             as_supervised=True,\n",
        "                                             with_info=True)"
      ],
      "metadata": {
        "id": "3d3V7A_S8lAb"
      },
      "execution_count": 7,
      "outputs": []
    },
    {
      "cell_type": "code",
      "source": [
        "#Find: Class names, shape, datatype, labels form(one-hot encoded or not)\n",
        "ds_info.features"
      ],
      "metadata": {
        "colab": {
          "base_uri": "https://localhost:8080/"
        },
        "id": "-mgjzX7L9EGF",
        "outputId": "2b2490b9-fe28-4efc-c236-6103942dd39d"
      },
      "execution_count": 8,
      "outputs": [
        {
          "output_type": "execute_result",
          "data": {
            "text/plain": [
              "FeaturesDict({\n",
              "    'image': Image(shape=(None, None, 3), dtype=tf.uint8),\n",
              "    'label': ClassLabel(shape=(), dtype=tf.int64, num_classes=101),\n",
              "})"
            ]
          },
          "metadata": {},
          "execution_count": 8
        }
      ]
    },
    {
      "cell_type": "code",
      "source": [
        "class_names=ds_info.features[\"label\"].names\n",
        "class_names"
      ],
      "metadata": {
        "colab": {
          "base_uri": "https://localhost:8080/"
        },
        "id": "Bv_hhacR9Wdn",
        "outputId": "c7d0115f-d127-4183-81b2-1ad08833aab1"
      },
      "execution_count": 9,
      "outputs": [
        {
          "output_type": "execute_result",
          "data": {
            "text/plain": [
              "['apple_pie',\n",
              " 'baby_back_ribs',\n",
              " 'baklava',\n",
              " 'beef_carpaccio',\n",
              " 'beef_tartare',\n",
              " 'beet_salad',\n",
              " 'beignets',\n",
              " 'bibimbap',\n",
              " 'bread_pudding',\n",
              " 'breakfast_burrito',\n",
              " 'bruschetta',\n",
              " 'caesar_salad',\n",
              " 'cannoli',\n",
              " 'caprese_salad',\n",
              " 'carrot_cake',\n",
              " 'ceviche',\n",
              " 'cheesecake',\n",
              " 'cheese_plate',\n",
              " 'chicken_curry',\n",
              " 'chicken_quesadilla',\n",
              " 'chicken_wings',\n",
              " 'chocolate_cake',\n",
              " 'chocolate_mousse',\n",
              " 'churros',\n",
              " 'clam_chowder',\n",
              " 'club_sandwich',\n",
              " 'crab_cakes',\n",
              " 'creme_brulee',\n",
              " 'croque_madame',\n",
              " 'cup_cakes',\n",
              " 'deviled_eggs',\n",
              " 'donuts',\n",
              " 'dumplings',\n",
              " 'edamame',\n",
              " 'eggs_benedict',\n",
              " 'escargots',\n",
              " 'falafel',\n",
              " 'filet_mignon',\n",
              " 'fish_and_chips',\n",
              " 'foie_gras',\n",
              " 'french_fries',\n",
              " 'french_onion_soup',\n",
              " 'french_toast',\n",
              " 'fried_calamari',\n",
              " 'fried_rice',\n",
              " 'frozen_yogurt',\n",
              " 'garlic_bread',\n",
              " 'gnocchi',\n",
              " 'greek_salad',\n",
              " 'grilled_cheese_sandwich',\n",
              " 'grilled_salmon',\n",
              " 'guacamole',\n",
              " 'gyoza',\n",
              " 'hamburger',\n",
              " 'hot_and_sour_soup',\n",
              " 'hot_dog',\n",
              " 'huevos_rancheros',\n",
              " 'hummus',\n",
              " 'ice_cream',\n",
              " 'lasagna',\n",
              " 'lobster_bisque',\n",
              " 'lobster_roll_sandwich',\n",
              " 'macaroni_and_cheese',\n",
              " 'macarons',\n",
              " 'miso_soup',\n",
              " 'mussels',\n",
              " 'nachos',\n",
              " 'omelette',\n",
              " 'onion_rings',\n",
              " 'oysters',\n",
              " 'pad_thai',\n",
              " 'paella',\n",
              " 'pancakes',\n",
              " 'panna_cotta',\n",
              " 'peking_duck',\n",
              " 'pho',\n",
              " 'pizza',\n",
              " 'pork_chop',\n",
              " 'poutine',\n",
              " 'prime_rib',\n",
              " 'pulled_pork_sandwich',\n",
              " 'ramen',\n",
              " 'ravioli',\n",
              " 'red_velvet_cake',\n",
              " 'risotto',\n",
              " 'samosa',\n",
              " 'sashimi',\n",
              " 'scallops',\n",
              " 'seaweed_salad',\n",
              " 'shrimp_and_grits',\n",
              " 'spaghetti_bolognese',\n",
              " 'spaghetti_carbonara',\n",
              " 'spring_rolls',\n",
              " 'steak',\n",
              " 'strawberry_shortcake',\n",
              " 'sushi',\n",
              " 'tacos',\n",
              " 'takoyaki',\n",
              " 'tiramisu',\n",
              " 'tuna_tartare',\n",
              " 'waffles']"
            ]
          },
          "metadata": {},
          "execution_count": 9
        }
      ]
    },
    {
      "cell_type": "code",
      "source": [
        "#Review the training data\n",
        "train_data"
      ],
      "metadata": {
        "colab": {
          "base_uri": "https://localhost:8080/"
        },
        "id": "HQSormdB90ds",
        "outputId": "f1bd82f4-df2e-4835-897a-cec7fd735bdb"
      },
      "execution_count": 10,
      "outputs": [
        {
          "output_type": "execute_result",
          "data": {
            "text/plain": [
              "<PrefetchDataset element_spec=(TensorSpec(shape=(None, None, 3), dtype=tf.uint8, name=None), TensorSpec(shape=(), dtype=tf.int64, name=None))>"
            ]
          },
          "metadata": {},
          "execution_count": 10
        }
      ]
    },
    {
      "cell_type": "code",
      "source": [
        "train_data.take(1)"
      ],
      "metadata": {
        "colab": {
          "base_uri": "https://localhost:8080/"
        },
        "id": "IEIGmAFX_jbB",
        "outputId": "e297761e-e6ed-47d0-f8df-b9f936ef17c6"
      },
      "execution_count": 11,
      "outputs": [
        {
          "output_type": "execute_result",
          "data": {
            "text/plain": [
              "<TakeDataset element_spec=(TensorSpec(shape=(None, None, 3), dtype=tf.uint8, name=None), TensorSpec(shape=(), dtype=tf.int64, name=None))>"
            ]
          },
          "metadata": {},
          "execution_count": 11
        }
      ]
    },
    {
      "cell_type": "code",
      "source": [
        "for image, label in train_data.take(1):\n",
        "  print(f\"\"\"\n",
        "  Image shape: {image.shape}\n",
        "  Image datatype: {image.dtype}\n",
        "  Target class (tensor): {label}\n",
        "  Class name: {class_names[label.numpy()]}\n",
        "  \"\"\")"
      ],
      "metadata": {
        "colab": {
          "base_uri": "https://localhost:8080/"
        },
        "id": "9woWG8JL_omV",
        "outputId": "90c510a9-ead9-4f73-f2f8-bffa3eaeaeb8"
      },
      "execution_count": 12,
      "outputs": [
        {
          "output_type": "stream",
          "name": "stdout",
          "text": [
            "\n",
            "  Image shape: (512, 512, 3)\n",
            "  Image datatype: <dtype: 'uint8'>\n",
            "  Target class (tensor): 56\n",
            "  Class name: huevos_rancheros\n",
            "  \n"
          ]
        }
      ]
    },
    {
      "cell_type": "code",
      "source": [
        "#After 3 iterations, I saw that the shape changed, thus we have to set one\n",
        "#The datatype has to be changed to float32 given that uint8 is not processed by neural networks\n",
        "#Labels are not one-hot encoded, we need to use sparse categorical cross entropy as it works best for these."
      ],
      "metadata": {
        "id": "rpleJHSHAuXl"
      },
      "execution_count": 13,
      "outputs": []
    },
    {
      "cell_type": "code",
      "source": [
        "image"
      ],
      "metadata": {
        "colab": {
          "base_uri": "https://localhost:8080/"
        },
        "id": "J63e9G7PBKx5",
        "outputId": "0c90780c-e17e-4012-c4b2-0bba966501f3"
      },
      "execution_count": 14,
      "outputs": [
        {
          "output_type": "execute_result",
          "data": {
            "text/plain": [
              "<tf.Tensor: shape=(512, 512, 3), dtype=uint8, numpy=\n",
              "array([[[233, 253, 251],\n",
              "        [231, 253, 250],\n",
              "        [228, 254, 251],\n",
              "        ...,\n",
              "        [ 85,  82,  89],\n",
              "        [ 68,  67,  75],\n",
              "        [ 57,  57,  67]],\n",
              "\n",
              "       [[232, 254, 252],\n",
              "        [229, 254, 251],\n",
              "        [226, 255, 251],\n",
              "        ...,\n",
              "        [121, 116, 120],\n",
              "        [100,  99, 104],\n",
              "        [ 86,  85,  91]],\n",
              "\n",
              "       [[228, 254, 253],\n",
              "        [226, 255, 253],\n",
              "        [223, 255, 252],\n",
              "        ...,\n",
              "        [164, 159, 155],\n",
              "        [145, 141, 138],\n",
              "        [128, 127, 125]],\n",
              "\n",
              "       ...,\n",
              "\n",
              "       [[ 66, 112, 164],\n",
              "        [ 67, 113, 163],\n",
              "        [ 55,  99, 148],\n",
              "        ...,\n",
              "        [  5,  14,  23],\n",
              "        [  9,  18,  27],\n",
              "        [  8,  17,  26]],\n",
              "\n",
              "       [[ 76, 123, 177],\n",
              "        [ 75, 122, 176],\n",
              "        [ 70, 116, 168],\n",
              "        ...,\n",
              "        [  5,  14,  23],\n",
              "        [  9,  18,  25],\n",
              "        [  7,  16,  23]],\n",
              "\n",
              "       [[ 80, 129, 185],\n",
              "        [ 71, 121, 174],\n",
              "        [ 74, 121, 175],\n",
              "        ...,\n",
              "        [  7,  16,  25],\n",
              "        [ 11,  20,  27],\n",
              "        [ 10,  19,  26]]], dtype=uint8)>"
            ]
          },
          "metadata": {},
          "execution_count": 14
        }
      ]
    },
    {
      "cell_type": "code",
      "source": [
        "tf.reduce_min(image), tf.reduce_max(image)"
      ],
      "metadata": {
        "colab": {
          "base_uri": "https://localhost:8080/"
        },
        "id": "XcgtVRMqBdQa",
        "outputId": "669995fa-f41a-4ba4-c8ea-981086cfe799"
      },
      "execution_count": 15,
      "outputs": [
        {
          "output_type": "execute_result",
          "data": {
            "text/plain": [
              "(<tf.Tensor: shape=(), dtype=uint8, numpy=0>,\n",
              " <tf.Tensor: shape=(), dtype=uint8, numpy=255>)"
            ]
          },
          "metadata": {},
          "execution_count": 15
        }
      ]
    },
    {
      "cell_type": "code",
      "source": [
        ""
      ],
      "metadata": {
        "id": "SdDQ5LlGDM8F"
      },
      "execution_count": 15,
      "outputs": []
    },
    {
      "cell_type": "code",
      "source": [
        "#The information is not normalized.\n",
        "# we could write a function to change this but since we are using EfficientNetB0, there is no need for this"
      ],
      "metadata": {
        "id": "GhWLzUUkBMk5"
      },
      "execution_count": 16,
      "outputs": []
    },
    {
      "cell_type": "code",
      "source": [
        "#Iterate through several images and their label to check if they are properly labeled\n",
        "import matplotlib.pyplot as plt\n",
        "for image, label in train_data.take(1):\n",
        "  plt.imshow(image)\n",
        "  plt.title(class_names[label.numpy()])\n",
        "  plt.axis(False);"
      ],
      "metadata": {
        "colab": {
          "base_uri": "https://localhost:8080/",
          "height": 264
        },
        "id": "iWUeDWItBiEM",
        "outputId": "00e169f9-5e69-419a-c460-ffb8168a963a"
      },
      "execution_count": 17,
      "outputs": [
        {
          "output_type": "display_data",
          "data": {
            "text/plain": [
              "<Figure size 432x288 with 1 Axes>"
            ],
            "image/png": "[encoded data removed]"
          },
          "metadata": {
            "needs_background": "light"
          }
        }
      ]
    },
    {
      "cell_type": "code",
      "source": [
        "#Everything looks fine.\n",
        "# let's begin preprocessing.\n",
        "#Change the image size and the type\n",
        "\n",
        "def size_type (image, label, img_shape=224):\n",
        "  \"\"\"\n",
        "  Insert image, arrange size to be [img_shape, img_shape]\n",
        "  and change datatype to float32.\n",
        "  \n",
        "  \"\"\"\n",
        "  image = tf.image.resize(image, [img_shape, img_shape])\n",
        "  return tf.cast(image, tf.float32), label\n"
      ],
      "metadata": {
        "id": "sL-EEJ2_DwU4"
      },
      "execution_count": 18,
      "outputs": []
    },
    {
      "cell_type": "code",
      "source": [
        "#Check if it works\n",
        "preprocess=size_type(image, label)[0]\n",
        "print(f\"Shape before preprocessing: {image.shape} \\nDatatype before preprocessing: {image.dtype}\")\n",
        "print(f\"Shape after: {preprocess.shape} \\nDatatype after: {preprocess.dtype}\")"
      ],
      "metadata": {
        "colab": {
          "base_uri": "https://localhost:8080/"
        },
        "id": "dMGNx0BZFS6t",
        "outputId": "8ca81390-465b-4adc-84cd-9ca7e342dba8"
      },
      "execution_count": 19,
      "outputs": [
        {
          "output_type": "stream",
          "name": "stdout",
          "text": [
            "Shape before preprocessing: (512, 512, 3) \n",
            "Datatype before preprocessing: <dtype: 'uint8'>\n",
            "Shape after: (224, 224, 3) \n",
            "Datatype after: <dtype: 'float32'>\n"
          ]
        }
      ]
    },
    {
      "cell_type": "code",
      "source": [
        "#Works, let's prepare our pipelines\n",
        "\n",
        "#Pass the function to the whole training data\n",
        "train_data = train_data.map(map_func=size_type, num_parallel_calls=tf.data.AUTOTUNE)\n",
        "\n",
        "#Shuffle train data and turn it into batches, pass the prefetch so it loads faste\n",
        "train_data = train_data.shuffle(buffer_size=1000).batch(batch_size=32).prefetch(buffer_size = tf.data.AUTOTUNE)\n",
        "\n",
        "#Map the function to the test data also\n",
        "test_data = test_data.map(map_func=size_type, num_parallel_calls=tf.data.AUTOTUNE).batch(32).prefetch(tf.data.AUTOTUNE)"
      ],
      "metadata": {
        "id": "4VUdnkWTGD2X"
      },
      "execution_count": 20,
      "outputs": []
    },
    {
      "cell_type": "code",
      "source": [
        "#Check the data\n",
        "train_data, test_data"
      ],
      "metadata": {
        "colab": {
          "base_uri": "https://localhost:8080/"
        },
        "id": "_YoJBRn2HJjR",
        "outputId": "520b885d-5ca3-4def-e9f7-291813c778fc"
      },
      "execution_count": 21,
      "outputs": [
        {
          "output_type": "execute_result",
          "data": {
            "text/plain": [
              "(<PrefetchDataset element_spec=(TensorSpec(shape=(None, 224, 224, 3), dtype=tf.float32, name=None), TensorSpec(shape=(None,), dtype=tf.int64, name=None))>,\n",
              " <PrefetchDataset element_spec=(TensorSpec(shape=(None, 224, 224, 3), dtype=tf.float32, name=None), TensorSpec(shape=(None,), dtype=tf.int64, name=None))>)"
            ]
          },
          "metadata": {},
          "execution_count": 21
        }
      ]
    },
    {
      "cell_type": "code",
      "source": [
        "#Shape and type works\n",
        "#We'll create some callbacks to save and compare later\n",
        "\n",
        "checkpoint_path = \"model_checkpoint/cp.ckpt\"\n",
        "model_checkpoint = tf.keras.callbacks.ModelCheckpoint(checkpoint_path,\n",
        "                                                      monitor=\"val_accuracy\",\n",
        "                                                      save_best_only=True,\n",
        "                                                      save_weights_only=True,\n",
        "                                                      verbose=0)"
      ],
      "metadata": {
        "id": "bzOzAKjUHNpR"
      },
      "execution_count": 22,
      "outputs": []
    },
    {
      "cell_type": "code",
      "source": [
        "#It would be smart to use mixed precision to check time.\n",
        "#We'll check if the GPU given by Google Colab fits to the standard required\n",
        "!nvidia-smi -L"
      ],
      "metadata": {
        "colab": {
          "base_uri": "https://localhost:8080/"
        },
        "id": "cdGlUOWtHyzC",
        "outputId": "f02cdc03-09ed-4108-e928-fa1e460c8c79"
      },
      "execution_count": 23,
      "outputs": [
        {
          "output_type": "stream",
          "name": "stdout",
          "text": [
            "GPU 0: Tesla T4 (UUID: GPU-7c801d6f-ccab-0d3a-046d-2e30a3ef071e)\n"
          ]
        }
      ]
    },
    {
      "cell_type": "code",
      "source": [
        "from tensorflow.keras import mixed_precision\n",
        "mixed_precision.set_global_policy(policy=\"mixed_float16\")\n",
        "mixed_precision.global_policy()"
      ],
      "metadata": {
        "colab": {
          "base_uri": "https://localhost:8080/"
        },
        "id": "MTCXWr7ebqLJ",
        "outputId": "a24e0264-ee86-4cc6-c608-79622aedd0b4"
      },
      "execution_count": 24,
      "outputs": [
        {
          "output_type": "stream",
          "name": "stdout",
          "text": [
            "INFO:tensorflow:Mixed precision compatibility check (mixed_float16): OK\n",
            "Your GPU will likely run quickly with dtype policy mixed_float16 as it has compute capability of at least 7.0. Your GPU: Tesla T4, compute capability 7.5\n"
          ]
        },
        {
          "output_type": "stream",
          "name": "stderr",
          "text": [
            "INFO:tensorflow:Mixed precision compatibility check (mixed_float16): OK\n",
            "Your GPU will likely run quickly with dtype policy mixed_float16 as it has compute capability of at least 7.0. Your GPU: Tesla T4, compute capability 7.5\n"
          ]
        },
        {
          "output_type": "execute_result",
          "data": {
            "text/plain": [
              "<Policy \"mixed_float16\">"
            ]
          },
          "metadata": {},
          "execution_count": 24
        }
      ]
    },
    {
      "cell_type": "code",
      "source": [
        "#Let's proceed to create the model\n",
        "\n",
        "from tensorflow.keras import layers\n",
        "\n",
        "#Create base model\n",
        "input_shape = (224,224,3)\n",
        "base_model = tf.keras.applications.EfficientNetB0(include_top=False)\n",
        "base_model.trainable = False\n",
        "\n",
        "#Create inputs\n",
        "inputs = layers.Input(shape=input_shape, dtype=tf.float16)\n",
        "\n",
        "#Create x layers\n",
        "x = base_model(inputs, training=False)\n",
        "x = layers.GlobalAveragePooling2D()(x)\n",
        "x = layers.Dense(len(class_names))(x)\n",
        "outputs = layers.Activation(\"softmax\", dtype=tf.float32)(x)\n",
        "\n",
        "model = tf.keras.Model(inputs, outputs)\n",
        "\n",
        "model.compile(loss=\"sparse_categorical_crossentropy\",\n",
        "              optimizer=\"adam\",\n",
        "              metrics=[\"accuracy\"])"
      ],
      "metadata": {
        "id": "NkSm7nMZIHz8"
      },
      "execution_count": 25,
      "outputs": []
    },
    {
      "cell_type": "code",
      "source": [
        "model.summary()"
      ],
      "metadata": {
        "colab": {
          "base_uri": "https://localhost:8080/"
        },
        "id": "pKh4cUweJnwF",
        "outputId": "42c349f0-2b32-4529-9f12-9f6b9ac07287"
      },
      "execution_count": 26,
      "outputs": [
        {
          "output_type": "stream",
          "name": "stdout",
          "text": [
            "Model: \"model\"\n",
            "_________________________________________________________________\n",
            " Layer (type)                Output Shape              Param #   \n",
            "=================================================================\n",
            " input_2 (InputLayer)        [(None, 224, 224, 3)]     0         \n",
            "                                                                 \n",
            " efficientnetb0 (Functional)  (None, None, None, 1280)  4049571  \n",
            "                                                                 \n",
            " global_average_pooling2d (G  (None, 1280)             0         \n",
            " lobalAveragePooling2D)                                          \n",
            "                                                                 \n",
            " dense (Dense)               (None, 101)               129381    \n",
            "                                                                 \n",
            " activation (Activation)     (None, 101)               0         \n",
            "                                                                 \n",
            "=================================================================\n",
            "Total params: 4,178,952\n",
            "Trainable params: 129,381\n",
            "Non-trainable params: 4,049,571\n",
            "_________________________________________________________________\n"
          ]
        }
      ]
    },
    {
      "cell_type": "code",
      "source": [
        "history_food_101_feature=model.fit(train_data,\n",
        "                                   epochs=3,\n",
        "                                   steps_per_epoch=len(train_data),\n",
        "                                   validation_data=test_data,\n",
        "                                   validation_steps=int(0.15*len(test_data)),\n",
        "                                   callbacks=[create_tensorboard_callback(dir_name=\"training_logs\",\n",
        "                                                                          experiment_name=\"efficientnetb0_food_101_feature\"),\n",
        "                                              model_checkpoint])"
      ],
      "metadata": {
        "colab": {
          "base_uri": "https://localhost:8080/"
        },
        "id": "SWYjCyenJ71O",
        "outputId": "53769fb9-4403-4e36-e39f-1d8e50f4acd4"
      },
      "execution_count": 27,
      "outputs": [
        {
          "output_type": "stream",
          "name": "stdout",
          "text": [
            "Saving TensorBoard log files to: training_logs/efficientnetb0_food_101_feature/20220509-083647\n",
            "Epoch 1/3\n",
            "2368/2368 [==============================] - 180s 69ms/step - loss: 1.8227 - accuracy: 0.5557 - val_loss: 1.2387 - val_accuracy: 0.6721\n",
            "Epoch 2/3\n",
            "2368/2368 [==============================] - 164s 69ms/step - loss: 1.2943 - accuracy: 0.6653 - val_loss: 1.1334 - val_accuracy: 0.6957\n",
            "Epoch 3/3\n",
            "2368/2368 [==============================] - 171s 71ms/step - loss: 1.1447 - accuracy: 0.7018 - val_loss: 1.0929 - val_accuracy: 0.7095\n"
          ]
        }
      ]
    },
    {
      "cell_type": "code",
      "source": [
        "results_feature=model.evaluate(test_data)\n",
        "results_feature"
      ],
      "metadata": {
        "colab": {
          "base_uri": "https://localhost:8080/"
        },
        "id": "vv8LWh4uKw6m",
        "outputId": "13aa282d-e120-4967-fc7a-65207e6ef552"
      },
      "execution_count": 28,
      "outputs": [
        {
          "output_type": "stream",
          "name": "stdout",
          "text": [
            "790/790 [==============================] - 49s 61ms/step - loss: 1.0962 - accuracy: 0.7054\n"
          ]
        },
        {
          "output_type": "execute_result",
          "data": {
            "text/plain": [
              "[1.096154808998108, 0.7054257392883301]"
            ]
          },
          "metadata": {},
          "execution_count": 28
        }
      ]
    },
    {
      "cell_type": "code",
      "source": [
        "#We want to improve the model to have an accuracy higher than 74%\n",
        "#Let's save for now\n",
        "model.save(\"drive/MyDrive/tensorflow_course/Food101_Feature_Model\")"
      ],
      "metadata": {
        "colab": {
          "base_uri": "https://localhost:8080/"
        },
        "id": "AksRJVmgK12W",
        "outputId": "f1816063-aa49-488e-a131-a7b9b14ea72c"
      },
      "execution_count": 29,
      "outputs": [
        {
          "output_type": "stream",
          "name": "stdout",
          "text": [
            "INFO:tensorflow:Assets written to: drive/MyDrive/tensorflow_course/Food101_Feature_Model/assets\n"
          ]
        },
        {
          "output_type": "stream",
          "name": "stderr",
          "text": [
            "INFO:tensorflow:Assets written to: drive/MyDrive/tensorflow_course/Food101_Feature_Model/assets\n"
          ]
        }
      ]
    },
    {
      "cell_type": "code",
      "source": [
        "loaded_food_feature=tf.keras.models.load_model(\"drive/MyDrive/tensorflow_course/Food101_Feature_Model\")"
      ],
      "metadata": {
        "id": "cjnH-kSAR7_M"
      },
      "execution_count": 30,
      "outputs": []
    },
    {
      "cell_type": "code",
      "source": [
        "loaded_results=loaded_food_feature.evaluate(test_data)\n",
        "loaded_results"
      ],
      "metadata": {
        "colab": {
          "base_uri": "https://localhost:8080/"
        },
        "id": "pwdTpPhBSgy0",
        "outputId": "865dfcfc-4a85-4b00-9f00-c91a6e8e44a8"
      },
      "execution_count": 31,
      "outputs": [
        {
          "output_type": "stream",
          "name": "stdout",
          "text": [
            "790/790 [==============================] - 50s 61ms/step - loss: 1.0962 - accuracy: 0.7054\n"
          ]
        },
        {
          "output_type": "execute_result",
          "data": {
            "text/plain": [
              "[1.096154808998108, 0.7054257392883301]"
            ]
          },
          "metadata": {},
          "execution_count": 31
        }
      ]
    },
    {
      "cell_type": "code",
      "source": [
        "#I'll proceed fine-tuning the base model so that we can maybe accomplish this task"
      ],
      "metadata": {
        "id": "2DNbCHKmU54S"
      },
      "execution_count": 32,
      "outputs": []
    },
    {
      "cell_type": "code",
      "source": [
        "#While that is running, I'll start preparing the EarlyStopping callback\n",
        " #let's make it stop training if model's val_loss doesn't improve for 3 epochs\n",
        "\n",
        "EarlyStopping=tf.keras.callbacks.EarlyStopping(monitor=\"val_loss\", patience=3)\n",
        "\n",
        "#I'll also create a modelcheckpoint so that we can save those values\n",
        "checkpoint_path=\"fine_tune_checkpoint/cp.ckpt\"\n",
        "model_checkpoint=tf.keras.callbacks.ModelCheckpoint(checkpoint_path,\n",
        "                                                    monitor=\"val_loss\",\n",
        "                                                    save_best_only=True,\n",
        "                                                    save_weights_only=True,\n",
        "                                                    verbose=0)"
      ],
      "metadata": {
        "id": "fFF0xjf1Ty66"
      },
      "execution_count": 33,
      "outputs": []
    },
    {
      "cell_type": "code",
      "source": [
        "model_fine_tune=loaded_food_feature\n",
        "for layer in model_fine_tune.layers:\n",
        "  layer.trainable = True\n",
        "  print(layer.name, layer.trainable, layer.dtype, layer.dtype_policy)"
      ],
      "metadata": {
        "colab": {
          "base_uri": "https://localhost:8080/"
        },
        "id": "OnoaWUd1VxTG",
        "outputId": "3296152b-435a-4c3f-d2a0-6be1d81de200"
      },
      "execution_count": 34,
      "outputs": [
        {
          "output_type": "stream",
          "name": "stdout",
          "text": [
            "input_2 True float16 <Policy \"float16\">\n",
            "efficientnetb0 True float32 <Policy \"mixed_float16\">\n",
            "global_average_pooling2d True float32 <Policy \"mixed_float16\">\n",
            "dense True float32 <Policy \"mixed_float16\">\n",
            "activation True float32 <Policy \"float32\">\n"
          ]
        }
      ]
    },
    {
      "cell_type": "code",
      "source": [
        "for i,layer in enumerate(model_fine_tune.layers[1].layers[:20]):\n",
        "  print(i, layer.name, layer.trainable)"
      ],
      "metadata": {
        "colab": {
          "base_uri": "https://localhost:8080/"
        },
        "id": "TVdcw_-mWr4h",
        "outputId": "2d59d31a-e4e4-46d5-d848-268c59f0bbf5"
      },
      "execution_count": 35,
      "outputs": [
        {
          "output_type": "stream",
          "name": "stdout",
          "text": [
            "0 input_1 True\n",
            "1 rescaling True\n",
            "2 normalization True\n",
            "3 stem_conv_pad True\n",
            "4 stem_conv True\n",
            "5 stem_bn True\n",
            "6 stem_activation True\n",
            "7 block1a_dwconv True\n",
            "8 block1a_bn True\n",
            "9 block1a_activation True\n",
            "10 block1a_se_squeeze True\n",
            "11 block1a_se_reshape True\n",
            "12 block1a_se_reduce True\n",
            "13 block1a_se_expand True\n",
            "14 block1a_se_excite True\n",
            "15 block1a_project_conv True\n",
            "16 block1a_project_bn True\n",
            "17 block2a_expand_conv True\n",
            "18 block2a_expand_bn True\n",
            "19 block2a_expand_activation True\n"
          ]
        }
      ]
    },
    {
      "cell_type": "code",
      "source": [
        "model_fine_tune.compile(optimizer=tf.keras.optimizers.Adam(learning_rate=0.0001),\n",
        "                        metrics=[\"accuracy\"],\n",
        "                        loss=\"sparse_categorical_crossentropy\")"
      ],
      "metadata": {
        "id": "si21y2AUYCLe"
      },
      "execution_count": 36,
      "outputs": []
    },
    {
      "cell_type": "code",
      "source": [
        "#Since we fine-tuned it's also good practice to use a callback that would reduce the learning rate when the val_loss plateaus.\n",
        "lr=tf.keras.callbacks.ReduceLROnPlateau(monitor=\"val_loss\",\n",
        "                                        factor=0.2,\n",
        "                                        patience=2,\n",
        "                                        verbose=1,\n",
        "                                        min_lr=1e-7)"
      ],
      "metadata": {
        "id": "24CBPecOY-rt"
      },
      "execution_count": 37,
      "outputs": []
    },
    {
      "cell_type": "code",
      "source": [
        "history_food_finetune=model_fine_tune.fit(train_data,\n",
        "                                          epochs=100,\n",
        "                                          steps_per_epoch=len(train_data),\n",
        "                                          validation_data=test_data,\n",
        "                                          validation_steps=int(0.15*len(test_data)),\n",
        "                                          callbacks=[create_tensorboard_callback(\"training_logs\", \"efficientb0_fine_tuned\"),\n",
        "                                                     model_checkpoint,\n",
        "                                                     EarlyStopping,\n",
        "                                                     lr])"
      ],
      "metadata": {
        "colab": {
          "base_uri": "https://localhost:8080/"
        },
        "id": "hbA1tMMnZsQW",
        "outputId": "349305fa-d07a-4e07-b329-d0d717679e0a"
      },
      "execution_count": 38,
      "outputs": [
        {
          "output_type": "stream",
          "name": "stdout",
          "text": [
            "Saving TensorBoard log files to: training_logs/efficientb0_fine_tuned/20220509-084908\n",
            "Epoch 1/100\n",
            "2368/2368 [==============================] - 347s 140ms/step - loss: 0.9229 - accuracy: 0.7514 - val_loss: 0.8229 - val_accuracy: 0.7696 - lr: 1.0000e-04\n",
            "Epoch 2/100\n",
            "2368/2368 [==============================] - 331s 139ms/step - loss: 0.5679 - accuracy: 0.8432 - val_loss: 0.8079 - val_accuracy: 0.7730 - lr: 1.0000e-04\n",
            "Epoch 3/100\n",
            "2368/2368 [==============================] - 328s 138ms/step - loss: 0.3139 - accuracy: 0.9128 - val_loss: 0.8858 - val_accuracy: 0.7786 - lr: 1.0000e-04\n",
            "Epoch 4/100\n",
            "2368/2368 [==============================] - ETA: 0s - loss: 0.1615 - accuracy: 0.9524\n",
            "Epoch 4: ReduceLROnPlateau reducing learning rate to 1.9999999494757503e-05.\n",
            "2368/2368 [==============================] - 328s 138ms/step - loss: 0.1615 - accuracy: 0.9524 - val_loss: 1.0393 - val_accuracy: 0.7722 - lr: 1.0000e-04\n",
            "Epoch 5/100\n",
            "2368/2368 [==============================] - 329s 138ms/step - loss: 0.0411 - accuracy: 0.9895 - val_loss: 1.0702 - val_accuracy: 0.8040 - lr: 2.0000e-05\n"
          ]
        }
      ]
    },
    {
      "cell_type": "code",
      "source": [
        "results_fine_tune=model_fine_tune.evaluate(test_data)\n",
        "results_fine_tune"
      ],
      "metadata": {
        "id": "XPe1sagDaemX",
        "colab": {
          "base_uri": "https://localhost:8080/"
        },
        "outputId": "1d2db8a0-1253-4cc2-f87d-0cecb1ef3954"
      },
      "execution_count": 39,
      "outputs": [
        {
          "output_type": "stream",
          "name": "stdout",
          "text": [
            "790/790 [==============================] - 49s 62ms/step - loss: 1.0918 - accuracy: 0.7970\n"
          ]
        },
        {
          "output_type": "execute_result",
          "data": {
            "text/plain": [
              "[1.0917510986328125, 0.7970296740531921]"
            ]
          },
          "metadata": {},
          "execution_count": 39
        }
      ]
    },
    {
      "cell_type": "code",
      "source": [
        "#Okay we passed the 74% goal, now I want to visualize some of the results by category.\n",
        "#I'll first make predictions on the test set and save those values.\n",
        "preds_probs=model_fine_tune.predict(test_data, verbose=1)"
      ],
      "metadata": {
        "colab": {
          "base_uri": "https://localhost:8080/"
        },
        "id": "e7EiJm4HwOK_",
        "outputId": "4886a66d-96fb-4445-f3d2-b34de1562b01"
      },
      "execution_count": 40,
      "outputs": [
        {
          "output_type": "stream",
          "name": "stdout",
          "text": [
            "790/790 [==============================] - 51s 62ms/step\n"
          ]
        }
      ]
    },
    {
      "cell_type": "code",
      "source": [
        "len(preds_probs)"
      ],
      "metadata": {
        "colab": {
          "base_uri": "https://localhost:8080/"
        },
        "id": "DlQITNUsy8zd",
        "outputId": "8fdde685-f134-4c91-a3a5-090dca80c318"
      },
      "execution_count": 41,
      "outputs": [
        {
          "output_type": "execute_result",
          "data": {
            "text/plain": [
              "25250"
            ]
          },
          "metadata": {},
          "execution_count": 41
        }
      ]
    },
    {
      "cell_type": "code",
      "source": [
        "preds_probs[0], len(preds_probs[0])"
      ],
      "metadata": {
        "colab": {
          "base_uri": "https://localhost:8080/"
        },
        "id": "dkB5EhwZzBEE",
        "outputId": "9a5e2dc3-1ebf-4274-f6a5-f861c166101b"
      },
      "execution_count": 42,
      "outputs": [
        {
          "output_type": "execute_result",
          "data": {
            "text/plain": [
              "(array([2.62652684e-05, 2.00298453e-15, 4.87323550e-12, 5.27716180e-15,\n",
              "        6.15108053e-09, 1.74755582e-13, 1.94135907e-15, 2.21842596e-11,\n",
              "        3.64657135e-05, 1.53112500e-09, 6.93040079e-08, 6.63297339e-14,\n",
              "        4.59727117e-10, 1.67908240e-06, 1.03445268e-06, 3.55037485e-14,\n",
              "        1.54405534e-05, 3.32024101e-05, 2.27309770e-18, 7.62302235e-11,\n",
              "        8.71367526e-18, 2.24997194e-08, 8.49130473e-08, 1.18743791e-11,\n",
              "        2.79258631e-13, 4.70348282e-14, 4.62359699e-11, 5.07038962e-08,\n",
              "        6.12527112e-11, 9.99612033e-01, 1.86640638e-04, 1.91354516e-07,\n",
              "        6.99110247e-15, 4.52740466e-21, 2.85621559e-06, 4.46926294e-16,\n",
              "        3.70957594e-08, 1.12830684e-13, 1.62792883e-17, 1.96070340e-14,\n",
              "        2.26967899e-15, 3.16441480e-13, 4.07417282e-08, 1.17926756e-18,\n",
              "        1.12830684e-13, 2.29503371e-06, 2.76503487e-14, 2.36862242e-17,\n",
              "        4.46254009e-13, 2.35795028e-08, 2.46444873e-13, 5.97980739e-15,\n",
              "        8.25486936e-14, 9.43298661e-10, 5.18134077e-20, 4.60419626e-13,\n",
              "        1.15575383e-09, 4.50700588e-12, 5.82720459e-05, 1.25155030e-12,\n",
              "        1.26592530e-14, 7.50483842e-11, 4.28256978e-14, 6.45598809e-12,\n",
              "        1.10615303e-15, 1.99997180e-12, 2.48526111e-09, 1.08117456e-11,\n",
              "        2.42334536e-21, 6.41922834e-11, 1.66303401e-18, 1.84468490e-17,\n",
              "        1.26022132e-05, 7.97684336e-08, 6.30267052e-16, 1.21487151e-15,\n",
              "        2.79258631e-13, 2.56801459e-12, 3.16918171e-16, 1.59116765e-13,\n",
              "        8.03460683e-12, 3.51005965e-12, 1.94135907e-15, 5.25338419e-06,\n",
              "        1.39244127e-17, 6.04848890e-17, 1.38825566e-11, 7.83200219e-13,\n",
              "        2.04617736e-16, 1.40843435e-19, 5.68203002e-17, 6.29319079e-13,\n",
              "        6.64296640e-17, 3.03679641e-14, 4.28768726e-06, 9.06620021e-14,\n",
              "        2.24390615e-13, 1.96600336e-09, 8.19552204e-10, 6.35589715e-12,\n",
              "        1.17218849e-06], dtype=float32), 101)"
            ]
          },
          "metadata": {},
          "execution_count": 42
        }
      ]
    },
    {
      "cell_type": "code",
      "source": [
        "print(f\"Number of prediction probabilities for sample 0: {len(preds_probs[0])}\")\n",
        "print(f\"What prediction sample 0 looks like:\\n {preds_probs[0]}\")\n",
        "print(f\"The class with the highest predicted probability by the model for sample 0: {preds_probs[0].argmax()}\")"
      ],
      "metadata": {
        "colab": {
          "base_uri": "https://localhost:8080/"
        },
        "id": "5577jctczmmM",
        "outputId": "3cac7362-965f-4c2e-dd55-d6b858b5175d"
      },
      "execution_count": 43,
      "outputs": [
        {
          "output_type": "stream",
          "name": "stdout",
          "text": [
            "Number of prediction probabilities for sample 0: 101\n",
            "What prediction sample 0 looks like:\n",
            " [2.62652684e-05 2.00298453e-15 4.87323550e-12 5.27716180e-15\n",
            " 6.15108053e-09 1.74755582e-13 1.94135907e-15 2.21842596e-11\n",
            " 3.64657135e-05 1.53112500e-09 6.93040079e-08 6.63297339e-14\n",
            " 4.59727117e-10 1.67908240e-06 1.03445268e-06 3.55037485e-14\n",
            " 1.54405534e-05 3.32024101e-05 2.27309770e-18 7.62302235e-11\n",
            " 8.71367526e-18 2.24997194e-08 8.49130473e-08 1.18743791e-11\n",
            " 2.79258631e-13 4.70348282e-14 4.62359699e-11 5.07038962e-08\n",
            " 6.12527112e-11 9.99612033e-01 1.86640638e-04 1.91354516e-07\n",
            " 6.99110247e-15 4.52740466e-21 2.85621559e-06 4.46926294e-16\n",
            " 3.70957594e-08 1.12830684e-13 1.62792883e-17 1.96070340e-14\n",
            " 2.26967899e-15 3.16441480e-13 4.07417282e-08 1.17926756e-18\n",
            " 1.12830684e-13 2.29503371e-06 2.76503487e-14 2.36862242e-17\n",
            " 4.46254009e-13 2.35795028e-08 2.46444873e-13 5.97980739e-15\n",
            " 8.25486936e-14 9.43298661e-10 5.18134077e-20 4.60419626e-13\n",
            " 1.15575383e-09 4.50700588e-12 5.82720459e-05 1.25155030e-12\n",
            " 1.26592530e-14 7.50483842e-11 4.28256978e-14 6.45598809e-12\n",
            " 1.10615303e-15 1.99997180e-12 2.48526111e-09 1.08117456e-11\n",
            " 2.42334536e-21 6.41922834e-11 1.66303401e-18 1.84468490e-17\n",
            " 1.26022132e-05 7.97684336e-08 6.30267052e-16 1.21487151e-15\n",
            " 2.79258631e-13 2.56801459e-12 3.16918171e-16 1.59116765e-13\n",
            " 8.03460683e-12 3.51005965e-12 1.94135907e-15 5.25338419e-06\n",
            " 1.39244127e-17 6.04848890e-17 1.38825566e-11 7.83200219e-13\n",
            " 2.04617736e-16 1.40843435e-19 5.68203002e-17 6.29319079e-13\n",
            " 6.64296640e-17 3.03679641e-14 4.28768726e-06 9.06620021e-14\n",
            " 2.24390615e-13 1.96600336e-09 8.19552204e-10 6.35589715e-12\n",
            " 1.17218849e-06]\n",
            "The class with the highest predicted probability by the model for sample 0: 29\n"
          ]
        }
      ]
    },
    {
      "cell_type": "code",
      "source": [
        "len(class_names)"
      ],
      "metadata": {
        "colab": {
          "base_uri": "https://localhost:8080/"
        },
        "id": "Jjrh7s5AzKcN",
        "outputId": "eed387e4-e7cd-401a-d82e-f0f4944a447c"
      },
      "execution_count": 44,
      "outputs": [
        {
          "output_type": "execute_result",
          "data": {
            "text/plain": [
              "101"
            ]
          },
          "metadata": {},
          "execution_count": 44
        }
      ]
    },
    {
      "cell_type": "code",
      "source": [
        "class_names[100]"
      ],
      "metadata": {
        "colab": {
          "base_uri": "https://localhost:8080/",
          "height": 36
        },
        "id": "Lzsbu3BHzXIF",
        "outputId": "7fb4d7d4-f1c7-425d-ca87-d250955e6ee2"
      },
      "execution_count": 45,
      "outputs": [
        {
          "output_type": "execute_result",
          "data": {
            "text/plain": [
              "'waffles'"
            ],
            "application/vnd.google.colaboratory.intrinsic+json": {
              "type": "string"
            }
          },
          "metadata": {},
          "execution_count": 45
        }
      ]
    },
    {
      "cell_type": "code",
      "source": [
        "#Get a list for the pred classes of each label\n",
        "pred_classes=preds_probs.argmax(axis=1)\n",
        "pred_classes[:10]"
      ],
      "metadata": {
        "colab": {
          "base_uri": "https://localhost:8080/"
        },
        "id": "mTuT4JWu0Krm",
        "outputId": "5999ace0-0c15-4d4c-dbd0-b826d23b9767"
      },
      "execution_count": 46,
      "outputs": [
        {
          "output_type": "execute_result",
          "data": {
            "text/plain": [
              "array([ 29,  81,  91,  53,  97,  97,  10,  31,   3, 100])"
            ]
          },
          "metadata": {},
          "execution_count": 46
        }
      ]
    },
    {
      "cell_type": "code",
      "source": [
        "test_data"
      ],
      "metadata": {
        "colab": {
          "base_uri": "https://localhost:8080/"
        },
        "id": "7bJUOVsz5TQE",
        "outputId": "b0bcc50e-1b86-48ea-f591-564a291105a1"
      },
      "execution_count": 47,
      "outputs": [
        {
          "output_type": "execute_result",
          "data": {
            "text/plain": [
              "<PrefetchDataset element_spec=(TensorSpec(shape=(None, 224, 224, 3), dtype=tf.float32, name=None), TensorSpec(shape=(None,), dtype=tf.int64, name=None))>"
            ]
          },
          "metadata": {},
          "execution_count": 47
        }
      ]
    },
    {
      "cell_type": "code",
      "source": [
        "y_true=[]\n",
        "for images, labels in test_data.unbatch():\n",
        "  y_true.append(labels.numpy())\n",
        "y_true[:10]"
      ],
      "metadata": {
        "colab": {
          "base_uri": "https://localhost:8080/"
        },
        "id": "dpr49fHPH_Er",
        "outputId": "cd58b920-56f2-4836-f2e5-093053a5516d"
      },
      "execution_count": 48,
      "outputs": [
        {
          "output_type": "execute_result",
          "data": {
            "text/plain": [
              "[29, 81, 91, 53, 97, 97, 10, 31, 3, 100]"
            ]
          },
          "metadata": {},
          "execution_count": 48
        }
      ]
    },
    {
      "cell_type": "code",
      "source": [
        "len(pred_classes), len(y_true)"
      ],
      "metadata": {
        "colab": {
          "base_uri": "https://localhost:8080/"
        },
        "id": "lVUVsOO2IN8Q",
        "outputId": "693acb1a-dcc4-4510-94cf-80015bb46ee8"
      },
      "execution_count": 49,
      "outputs": [
        {
          "output_type": "execute_result",
          "data": {
            "text/plain": [
              "(25250, 25250)"
            ]
          },
          "metadata": {},
          "execution_count": 49
        }
      ]
    },
    {
      "cell_type": "code",
      "source": [
        "#Evaluate the classification report from sklearn\n",
        "from sklearn.metrics import classification_report\n",
        "print(classification_report(y_true,pred_classes))"
      ],
      "metadata": {
        "colab": {
          "base_uri": "https://localhost:8080/"
        },
        "id": "da4O1NsyIo59",
        "outputId": "d434c8de-9078-4f2b-d504-e469b32a6582"
      },
      "execution_count": 51,
      "outputs": [
        {
          "output_type": "stream",
          "name": "stdout",
          "text": [
            "              precision    recall  f1-score   support\n",
            "\n",
            "           0       0.63      0.57      0.60       250\n",
            "           1       0.81      0.70      0.75       250\n",
            "           2       0.83      0.86      0.85       250\n",
            "           3       0.85      0.80      0.83       250\n",
            "           4       0.72      0.78      0.75       250\n",
            "           5       0.72      0.63      0.68       250\n",
            "           6       0.85      0.87      0.86       250\n",
            "           7       0.83      0.94      0.88       250\n",
            "           8       0.63      0.64      0.63       250\n",
            "           9       0.79      0.71      0.75       250\n",
            "          10       0.78      0.70      0.74       250\n",
            "          11       0.80      0.85      0.82       250\n",
            "          12       0.89      0.87      0.88       250\n",
            "          13       0.76      0.80      0.78       250\n",
            "          14       0.70      0.81      0.75       250\n",
            "          15       0.66      0.64      0.65       250\n",
            "          16       0.68      0.68      0.68       250\n",
            "          17       0.86      0.85      0.85       250\n",
            "          18       0.75      0.66      0.70       250\n",
            "          19       0.82      0.78      0.80       250\n",
            "          20       0.88      0.88      0.88       250\n",
            "          21       0.71      0.66      0.68       250\n",
            "          22       0.62      0.57      0.59       250\n",
            "          23       0.89      0.83      0.86       250\n",
            "          24       0.83      0.86      0.85       250\n",
            "          25       0.84      0.85      0.85       250\n",
            "          26       0.72      0.75      0.74       250\n",
            "          27       0.83      0.89      0.86       250\n",
            "          28       0.81      0.85      0.83       250\n",
            "          29       0.86      0.86      0.86       250\n",
            "          30       0.87      0.91      0.89       250\n",
            "          31       0.83      0.85      0.84       250\n",
            "          32       0.88      0.89      0.89       250\n",
            "          33       0.98      0.98      0.98       250\n",
            "          34       0.85      0.86      0.85       250\n",
            "          35       0.86      0.90      0.88       250\n",
            "          36       0.81      0.75      0.78       250\n",
            "          37       0.63      0.63      0.63       250\n",
            "          38       0.86      0.82      0.84       250\n",
            "          39       0.66      0.54      0.59       250\n",
            "          40       0.88      0.94      0.91       250\n",
            "          41       0.78      0.83      0.80       250\n",
            "          42       0.74      0.71      0.72       250\n",
            "          43       0.86      0.82      0.84       250\n",
            "          44       0.81      0.87      0.84       250\n",
            "          45       0.86      0.94      0.90       250\n",
            "          46       0.75      0.75      0.75       250\n",
            "          47       0.72      0.69      0.70       250\n",
            "          48       0.78      0.83      0.80       250\n",
            "          49       0.59      0.78      0.67       250\n",
            "          50       0.64      0.74      0.69       250\n",
            "          51       0.91      0.91      0.91       250\n",
            "          52       0.81      0.86      0.83       250\n",
            "          53       0.79      0.77      0.78       250\n",
            "          54       0.89      0.93      0.91       250\n",
            "          55       0.86      0.86      0.86       250\n",
            "          56       0.62      0.65      0.64       250\n",
            "          57       0.81      0.69      0.75       250\n",
            "          58       0.79      0.72      0.75       250\n",
            "          59       0.79      0.74      0.77       250\n",
            "          60       0.79      0.84      0.82       250\n",
            "          61       0.91      0.84      0.87       250\n",
            "          62       0.76      0.82      0.79       250\n",
            "          63       0.95      0.94      0.95       250\n",
            "          64       0.95      0.87      0.91       250\n",
            "          65       0.89      0.91      0.90       250\n",
            "          66       0.74      0.80      0.77       250\n",
            "          67       0.63      0.74      0.68       250\n",
            "          68       0.87      0.92      0.89       250\n",
            "          69       0.90      0.94      0.92       250\n",
            "          70       0.89      0.91      0.90       250\n",
            "          71       0.82      0.79      0.81       250\n",
            "          72       0.84      0.80      0.82       250\n",
            "          73       0.78      0.71      0.74       250\n",
            "          74       0.89      0.81      0.85       250\n",
            "          75       0.90      0.93      0.92       250\n",
            "          76       0.91      0.89      0.90       250\n",
            "          77       0.59      0.59      0.59       250\n",
            "          78       0.88      0.90      0.89       250\n",
            "          79       0.81      0.82      0.81       250\n",
            "          80       0.75      0.77      0.76       250\n",
            "          81       0.86      0.85      0.86       250\n",
            "          82       0.70      0.64      0.67       250\n",
            "          83       0.83      0.85      0.84       250\n",
            "          84       0.70      0.71      0.70       250\n",
            "          85       0.86      0.77      0.81       250\n",
            "          86       0.88      0.91      0.90       250\n",
            "          87       0.72      0.68      0.70       250\n",
            "          88       0.88      0.92      0.90       250\n",
            "          89       0.79      0.75      0.77       250\n",
            "          90       0.90      0.90      0.90       250\n",
            "          91       0.91      0.93      0.92       250\n",
            "          92       0.88      0.80      0.83       250\n",
            "          93       0.50      0.53      0.51       250\n",
            "          94       0.76      0.78      0.77       250\n",
            "          95       0.86      0.80      0.83       250\n",
            "          96       0.67      0.76      0.71       250\n",
            "          97       0.88      0.87      0.87       250\n",
            "          98       0.75      0.75      0.75       250\n",
            "          99       0.68      0.61      0.65       250\n",
            "         100       0.86      0.86      0.86       250\n",
            "\n",
            "    accuracy                           0.80     25250\n",
            "   macro avg       0.80      0.80      0.80     25250\n",
            "weighted avg       0.80      0.80      0.80     25250\n",
            "\n"
          ]
        }
      ]
    },
    {
      "cell_type": "code",
      "source": [
        "#We want to have the data only for f1 score in a table, thus we can transform\n",
        "# it to a dictionary and then clean it up\n",
        "\n",
        "clasf_dict=classification_report(y_true=y_true, y_pred=pred_classes, output_dict=True)\n",
        "clasf_dict"
      ],
      "metadata": {
        "colab": {
          "base_uri": "https://localhost:8080/"
        },
        "id": "dzaRQ_NhI95E",
        "outputId": "684556e2-ccb1-4af6-f7d8-6864839ea0eb"
      },
      "execution_count": 52,
      "outputs": [
        {
          "output_type": "execute_result",
          "data": {
            "text/plain": [
              "{'0': {'f1-score': 0.6008403361344538,\n",
              "  'precision': 0.6327433628318584,\n",
              "  'recall': 0.572,\n",
              "  'support': 250},\n",
              " '1': {'f1-score': 0.753747323340471,\n",
              "  'precision': 0.8110599078341014,\n",
              "  'recall': 0.704,\n",
              "  'support': 250},\n",
              " '10': {'f1-score': 0.7372881355932204,\n",
              "  'precision': 0.7837837837837838,\n",
              "  'recall': 0.696,\n",
              "  'support': 250},\n",
              " '100': {'f1-score': 0.8617234468937875,\n",
              "  'precision': 0.8634538152610441,\n",
              "  'recall': 0.86,\n",
              "  'support': 250},\n",
              " '11': {'f1-score': 0.8239845261121858,\n",
              "  'precision': 0.797752808988764,\n",
              "  'recall': 0.852,\n",
              "  'support': 250},\n",
              " '12': {'f1-score': 0.8767676767676768,\n",
              "  'precision': 0.8857142857142857,\n",
              "  'recall': 0.868,\n",
              "  'support': 250},\n",
              " '13': {'f1-score': 0.77734375,\n",
              "  'precision': 0.7595419847328244,\n",
              "  'recall': 0.796,\n",
              "  'support': 250},\n",
              " '14': {'f1-score': 0.7532467532467533,\n",
              "  'precision': 0.7024221453287197,\n",
              "  'recall': 0.812,\n",
              "  'support': 250},\n",
              " '15': {'f1-score': 0.6463414634146342,\n",
              "  'precision': 0.6570247933884298,\n",
              "  'recall': 0.636,\n",
              "  'support': 250},\n",
              " '16': {'f1-score': 0.6800804828973843,\n",
              "  'precision': 0.6842105263157895,\n",
              "  'recall': 0.676,\n",
              "  'support': 250},\n",
              " '17': {'f1-score': 0.8531187122736418,\n",
              "  'precision': 0.8582995951417004,\n",
              "  'recall': 0.848,\n",
              "  'support': 250},\n",
              " '18': {'f1-score': 0.7048832271762208,\n",
              "  'precision': 0.751131221719457,\n",
              "  'recall': 0.664,\n",
              "  'support': 250},\n",
              " '19': {'f1-score': 0.7967145790554415,\n",
              "  'precision': 0.8185654008438819,\n",
              "  'recall': 0.776,\n",
              "  'support': 250},\n",
              " '2': {'f1-score': 0.8454011741682975,\n",
              "  'precision': 0.8275862068965517,\n",
              "  'recall': 0.864,\n",
              "  'support': 250},\n",
              " '20': {'f1-score': 0.8804780876494025,\n",
              "  'precision': 0.876984126984127,\n",
              "  'recall': 0.884,\n",
              "  'support': 250},\n",
              " '21': {'f1-score': 0.6804979253112033,\n",
              "  'precision': 0.7068965517241379,\n",
              "  'recall': 0.656,\n",
              "  'support': 250},\n",
              " '22': {'f1-score': 0.5933609958506224,\n",
              "  'precision': 0.6163793103448276,\n",
              "  'recall': 0.572,\n",
              "  'support': 250},\n",
              " '23': {'f1-score': 0.8612836438923395,\n",
              "  'precision': 0.8927038626609443,\n",
              "  'recall': 0.832,\n",
              "  'support': 250},\n",
              " '24': {'f1-score': 0.8470588235294119,\n",
              "  'precision': 0.8307692307692308,\n",
              "  'recall': 0.864,\n",
              "  'support': 250},\n",
              " '25': {'f1-score': 0.8452380952380952,\n",
              "  'precision': 0.8385826771653543,\n",
              "  'recall': 0.852,\n",
              "  'support': 250},\n",
              " '26': {'f1-score': 0.7372549019607844,\n",
              "  'precision': 0.7230769230769231,\n",
              "  'recall': 0.752,\n",
              "  'support': 250},\n",
              " '27': {'f1-score': 0.8593448940269749,\n",
              "  'precision': 0.828996282527881,\n",
              "  'recall': 0.892,\n",
              "  'support': 250},\n",
              " '28': {'f1-score': 0.8297455968688845,\n",
              "  'precision': 0.8122605363984674,\n",
              "  'recall': 0.848,\n",
              "  'support': 250},\n",
              " '29': {'f1-score': 0.8622754491017964,\n",
              "  'precision': 0.8605577689243028,\n",
              "  'recall': 0.864,\n",
              "  'support': 250},\n",
              " '3': {'f1-score': 0.8271604938271604,\n",
              "  'precision': 0.8516949152542372,\n",
              "  'recall': 0.804,\n",
              "  'support': 250},\n",
              " '30': {'f1-score': 0.8906250000000001,\n",
              "  'precision': 0.8702290076335878,\n",
              "  'recall': 0.912,\n",
              "  'support': 250},\n",
              " '31': {'f1-score': 0.8396039603960396,\n",
              "  'precision': 0.8313725490196079,\n",
              "  'recall': 0.848,\n",
              "  'support': 250},\n",
              " '32': {'f1-score': 0.8866799204771372,\n",
              "  'precision': 0.8814229249011858,\n",
              "  'recall': 0.892,\n",
              "  'support': 250},\n",
              " '33': {'f1-score': 0.9819639278557115,\n",
              "  'precision': 0.9839357429718876,\n",
              "  'recall': 0.98,\n",
              "  'support': 250},\n",
              " '34': {'f1-score': 0.8525896414342629,\n",
              "  'precision': 0.8492063492063492,\n",
              "  'recall': 0.856,\n",
              "  'support': 250},\n",
              " '35': {'f1-score': 0.8801571709233792,\n",
              "  'precision': 0.8648648648648649,\n",
              "  'recall': 0.896,\n",
              "  'support': 250},\n",
              " '36': {'f1-score': 0.7775467775467776,\n",
              "  'precision': 0.8095238095238095,\n",
              "  'recall': 0.748,\n",
              "  'support': 250},\n",
              " '37': {'f1-score': 0.6307385229540918,\n",
              "  'precision': 0.6294820717131474,\n",
              "  'recall': 0.632,\n",
              "  'support': 250},\n",
              " '38': {'f1-score': 0.8425357873210634,\n",
              "  'precision': 0.8619246861924686,\n",
              "  'recall': 0.824,\n",
              "  'support': 250},\n",
              " '39': {'f1-score': 0.5929203539823008,\n",
              "  'precision': 0.6633663366336634,\n",
              "  'recall': 0.536,\n",
              "  'support': 250},\n",
              " '4': {'f1-score': 0.748091603053435,\n",
              "  'precision': 0.7153284671532847,\n",
              "  'recall': 0.784,\n",
              "  'support': 250},\n",
              " '40': {'f1-score': 0.9052224371373307,\n",
              "  'precision': 0.8764044943820225,\n",
              "  'recall': 0.936,\n",
              "  'support': 250},\n",
              " '41': {'f1-score': 0.8030888030888031,\n",
              "  'precision': 0.7761194029850746,\n",
              "  'recall': 0.832,\n",
              "  'support': 250},\n",
              " '42': {'f1-score': 0.7235772357723577,\n",
              "  'precision': 0.7355371900826446,\n",
              "  'recall': 0.712,\n",
              "  'support': 250},\n",
              " '43': {'f1-score': 0.837782340862423,\n",
              "  'precision': 0.8607594936708861,\n",
              "  'recall': 0.816,\n",
              "  'support': 250},\n",
              " '44': {'f1-score': 0.8394584139264991,\n",
              "  'precision': 0.8127340823970037,\n",
              "  'recall': 0.868,\n",
              "  'support': 250},\n",
              " '45': {'f1-score': 0.8982725527831094,\n",
              "  'precision': 0.8634686346863468,\n",
              "  'recall': 0.936,\n",
              "  'support': 250},\n",
              " '46': {'f1-score': 0.749498997995992,\n",
              "  'precision': 0.751004016064257,\n",
              "  'recall': 0.748,\n",
              "  'support': 250},\n",
              " '47': {'f1-score': 0.7049180327868853,\n",
              "  'precision': 0.7226890756302521,\n",
              "  'recall': 0.688,\n",
              "  'support': 250},\n",
              " '48': {'f1-score': 0.804642166344294,\n",
              "  'precision': 0.7790262172284644,\n",
              "  'recall': 0.832,\n",
              "  'support': 250},\n",
              " '49': {'f1-score': 0.6701030927835052,\n",
              "  'precision': 0.5873493975903614,\n",
              "  'recall': 0.78,\n",
              "  'support': 250},\n",
              " '5': {'f1-score': 0.6752136752136753,\n",
              "  'precision': 0.7247706422018348,\n",
              "  'recall': 0.632,\n",
              "  'support': 250},\n",
              " '50': {'f1-score': 0.6877323420074349,\n",
              "  'precision': 0.6423611111111112,\n",
              "  'recall': 0.74,\n",
              "  'support': 250},\n",
              " '51': {'f1-score': 0.9098196392785571,\n",
              "  'precision': 0.9116465863453815,\n",
              "  'recall': 0.908,\n",
              "  'support': 250},\n",
              " '52': {'f1-score': 0.8317214700193424,\n",
              "  'precision': 0.8052434456928839,\n",
              "  'recall': 0.86,\n",
              "  'support': 250},\n",
              " '53': {'f1-score': 0.7813765182186235,\n",
              "  'precision': 0.7909836065573771,\n",
              "  'recall': 0.772,\n",
              "  'support': 250},\n",
              " '54': {'f1-score': 0.9098039215686274,\n",
              "  'precision': 0.8923076923076924,\n",
              "  'recall': 0.928,\n",
              "  'support': 250},\n",
              " '55': {'f1-score': 0.8622754491017964,\n",
              "  'precision': 0.8605577689243028,\n",
              "  'recall': 0.864,\n",
              "  'support': 250},\n",
              " '56': {'f1-score': 0.6354775828460039,\n",
              "  'precision': 0.6197718631178707,\n",
              "  'recall': 0.652,\n",
              "  'support': 250},\n",
              " '57': {'f1-score': 0.7456896551724138,\n",
              "  'precision': 0.8084112149532711,\n",
              "  'recall': 0.692,\n",
              "  'support': 250},\n",
              " '58': {'f1-score': 0.7541666666666667,\n",
              "  'precision': 0.7869565217391304,\n",
              "  'recall': 0.724,\n",
              "  'support': 250},\n",
              " '59': {'f1-score': 0.7670103092783506,\n",
              "  'precision': 0.7914893617021277,\n",
              "  'recall': 0.744,\n",
              "  'support': 250},\n",
              " '6': {'f1-score': 0.857707509881423,\n",
              "  'precision': 0.84765625,\n",
              "  'recall': 0.868,\n",
              "  'support': 250},\n",
              " '60': {'f1-score': 0.817829457364341,\n",
              "  'precision': 0.793233082706767,\n",
              "  'recall': 0.844,\n",
              "  'support': 250},\n",
              " '61': {'f1-score': 0.871369294605809,\n",
              "  'precision': 0.9051724137931034,\n",
              "  'recall': 0.84,\n",
              "  'support': 250},\n",
              " '62': {'f1-score': 0.7861271676300576,\n",
              "  'precision': 0.758364312267658,\n",
              "  'recall': 0.816,\n",
              "  'support': 250},\n",
              " '63': {'f1-score': 0.9456740442655935,\n",
              "  'precision': 0.951417004048583,\n",
              "  'recall': 0.94,\n",
              "  'support': 250},\n",
              " '64': {'f1-score': 0.9102296450939457,\n",
              "  'precision': 0.9519650655021834,\n",
              "  'recall': 0.872,\n",
              "  'support': 250},\n",
              " '65': {'f1-score': 0.8994082840236687,\n",
              "  'precision': 0.8871595330739299,\n",
              "  'recall': 0.912,\n",
              "  'support': 250},\n",
              " '66': {'f1-score': 0.7668593448940271,\n",
              "  'precision': 0.7397769516728625,\n",
              "  'recall': 0.796,\n",
              "  'support': 250},\n",
              " '67': {'f1-score': 0.6801470588235293,\n",
              "  'precision': 0.6292517006802721,\n",
              "  'recall': 0.74,\n",
              "  'support': 250},\n",
              " '68': {'f1-score': 0.8927875243664718,\n",
              "  'precision': 0.870722433460076,\n",
              "  'recall': 0.916,\n",
              "  'support': 250},\n",
              " '69': {'f1-score': 0.9158512720156556,\n",
              "  'precision': 0.896551724137931,\n",
              "  'recall': 0.936,\n",
              "  'support': 250},\n",
              " '7': {'f1-score': 0.8813559322033897,\n",
              "  'precision': 0.8327402135231317,\n",
              "  'recall': 0.936,\n",
              "  'support': 250},\n",
              " '70': {'f1-score': 0.9011857707509882,\n",
              "  'precision': 0.890625,\n",
              "  'recall': 0.912,\n",
              "  'support': 250},\n",
              " '71': {'f1-score': 0.8065173116089613,\n",
              "  'precision': 0.8215767634854771,\n",
              "  'recall': 0.792,\n",
              "  'support': 250},\n",
              " '72': {'f1-score': 0.8213552361396304,\n",
              "  'precision': 0.8438818565400844,\n",
              "  'recall': 0.8,\n",
              "  'support': 250},\n",
              " '73': {'f1-score': 0.7447698744769874,\n",
              "  'precision': 0.7807017543859649,\n",
              "  'recall': 0.712,\n",
              "  'support': 250},\n",
              " '74': {'f1-score': 0.8475991649269311,\n",
              "  'precision': 0.8864628820960698,\n",
              "  'recall': 0.812,\n",
              "  'support': 250},\n",
              " '75': {'f1-score': 0.9151873767258383,\n",
              "  'precision': 0.9027237354085603,\n",
              "  'recall': 0.928,\n",
              "  'support': 250},\n",
              " '76': {'f1-score': 0.8987854251012145,\n",
              "  'precision': 0.9098360655737705,\n",
              "  'recall': 0.888,\n",
              "  'support': 250},\n",
              " '77': {'f1-score': 0.5891783567134269,\n",
              "  'precision': 0.5903614457831325,\n",
              "  'recall': 0.588,\n",
              "  'support': 250},\n",
              " '78': {'f1-score': 0.8853754940711464,\n",
              "  'precision': 0.875,\n",
              "  'recall': 0.896,\n",
              "  'support': 250},\n",
              " '79': {'f1-score': 0.8127490039840637,\n",
              "  'precision': 0.8095238095238095,\n",
              "  'recall': 0.816,\n",
              "  'support': 250},\n",
              " '8': {'f1-score': 0.6334661354581673,\n",
              "  'precision': 0.6309523809523809,\n",
              "  'recall': 0.636,\n",
              "  'support': 250},\n",
              " '80': {'f1-score': 0.7613412228796845,\n",
              "  'precision': 0.7509727626459144,\n",
              "  'recall': 0.772,\n",
              "  'support': 250},\n",
              " '81': {'f1-score': 0.8571428571428571,\n",
              "  'precision': 0.8623481781376519,\n",
              "  'recall': 0.852,\n",
              "  'support': 250},\n",
              " '82': {'f1-score': 0.6680584551148225,\n",
              "  'precision': 0.6986899563318777,\n",
              "  'recall': 0.64,\n",
              "  'support': 250},\n",
              " '83': {'f1-score': 0.841897233201581,\n",
              "  'precision': 0.83203125,\n",
              "  'recall': 0.852,\n",
              "  'support': 250},\n",
              " '84': {'f1-score': 0.7037773359840954,\n",
              "  'precision': 0.6996047430830039,\n",
              "  'recall': 0.708,\n",
              "  'support': 250},\n",
              " '85': {'f1-score': 0.8135593220338984,\n",
              "  'precision': 0.8648648648648649,\n",
              "  'recall': 0.768,\n",
              "  'support': 250},\n",
              " '86': {'f1-score': 0.8954635108481263,\n",
              "  'precision': 0.8832684824902723,\n",
              "  'recall': 0.908,\n",
              "  'support': 250},\n",
              " '87': {'f1-score': 0.7010309278350516,\n",
              "  'precision': 0.723404255319149,\n",
              "  'recall': 0.68,\n",
              "  'support': 250},\n",
              " '88': {'f1-score': 0.899803536345776,\n",
              "  'precision': 0.8841698841698842,\n",
              "  'recall': 0.916,\n",
              "  'support': 250},\n",
              " '89': {'f1-score': 0.7663934426229508,\n",
              "  'precision': 0.7857142857142857,\n",
              "  'recall': 0.748,\n",
              "  'support': 250},\n",
              " '9': {'f1-score': 0.7484143763213529,\n",
              "  'precision': 0.7937219730941704,\n",
              "  'recall': 0.708,\n",
              "  'support': 250},\n",
              " '90': {'f1-score': 0.900398406374502,\n",
              "  'precision': 0.8968253968253969,\n",
              "  'recall': 0.904,\n",
              "  'support': 250},\n",
              " '91': {'f1-score': 0.9227722772277228,\n",
              "  'precision': 0.9137254901960784,\n",
              "  'recall': 0.932,\n",
              "  'support': 250},\n",
              " '92': {'f1-score': 0.8343815513626834,\n",
              "  'precision': 0.8766519823788547,\n",
              "  'recall': 0.796,\n",
              "  'support': 250},\n",
              " '93': {'f1-score': 0.5146198830409358,\n",
              "  'precision': 0.5019011406844106,\n",
              "  'recall': 0.528,\n",
              "  'support': 250},\n",
              " '94': {'f1-score': 0.7722772277227723,\n",
              "  'precision': 0.7647058823529411,\n",
              "  'recall': 0.78,\n",
              "  'support': 250},\n",
              " '95': {'f1-score': 0.8305785123966943,\n",
              "  'precision': 0.8589743589743589,\n",
              "  'recall': 0.804,\n",
              "  'support': 250},\n",
              " '96': {'f1-score': 0.7102803738317756,\n",
              "  'precision': 0.6666666666666666,\n",
              "  'recall': 0.76,\n",
              "  'support': 250},\n",
              " '97': {'f1-score': 0.8732394366197184,\n",
              "  'precision': 0.8785425101214575,\n",
              "  'recall': 0.868,\n",
              "  'support': 250},\n",
              " '98': {'f1-score': 0.750499001996008,\n",
              "  'precision': 0.749003984063745,\n",
              "  'recall': 0.752,\n",
              "  'support': 250},\n",
              " '99': {'f1-score': 0.6455696202531646,\n",
              "  'precision': 0.6830357142857143,\n",
              "  'recall': 0.612,\n",
              "  'support': 250},\n",
              " 'accuracy': 0.7970297029702971,\n",
              " 'macro avg': {'f1-score': 0.7965197887070216,\n",
              "  'precision': 0.7980883247011111,\n",
              "  'recall': 0.7970297029702968,\n",
              "  'support': 25250},\n",
              " 'weighted avg': {'f1-score': 0.7965197887070213,\n",
              "  'precision': 0.7980883247011112,\n",
              "  'recall': 0.7970297029702971,\n",
              "  'support': 25250}}"
            ]
          },
          "metadata": {},
          "execution_count": 52
        }
      ]
    },
    {
      "cell_type": "code",
      "source": [
        "clasf_dict[\"99\"][\"f1-score\"]"
      ],
      "metadata": {
        "colab": {
          "base_uri": "https://localhost:8080/"
        },
        "id": "7iFnGAqFJqee",
        "outputId": "93660d18-13bb-4d41-9637-b32149ed5930"
      },
      "execution_count": 53,
      "outputs": [
        {
          "output_type": "execute_result",
          "data": {
            "text/plain": [
              "0.6455696202531646"
            ]
          },
          "metadata": {},
          "execution_count": 53
        }
      ]
    },
    {
      "cell_type": "code",
      "source": [
        "class_names[int(6)]"
      ],
      "metadata": {
        "colab": {
          "base_uri": "https://localhost:8080/",
          "height": 36
        },
        "id": "_hJXu7ICOC7m",
        "outputId": "d79da165-6ea6-4c90-8d60-145f88eaf3b5"
      },
      "execution_count": 62,
      "outputs": [
        {
          "output_type": "execute_result",
          "data": {
            "text/plain": [
              "'beignets'"
            ],
            "application/vnd.google.colaboratory.intrinsic+json": {
              "type": "string"
            }
          },
          "metadata": {},
          "execution_count": 62
        }
      ]
    },
    {
      "cell_type": "code",
      "source": [
        "for i, j in clasf_dict.items():\n",
        "  print(i)\n",
        "  print(j[\"f1-score\"])"
      ],
      "metadata": {
        "colab": {
          "base_uri": "https://localhost:8080/",
          "height": 1000
        },
        "id": "CX47jsquOZkK",
        "outputId": "6a87b4c0-820f-44cd-9c0e-2952d718990b"
      },
      "execution_count": 67,
      "outputs": [
        {
          "output_type": "stream",
          "name": "stdout",
          "text": [
            "0\n",
            "0.6008403361344538\n",
            "1\n",
            "0.753747323340471\n",
            "2\n",
            "0.8454011741682975\n",
            "3\n",
            "0.8271604938271604\n",
            "4\n",
            "0.748091603053435\n",
            "5\n",
            "0.6752136752136753\n",
            "6\n",
            "0.857707509881423\n",
            "7\n",
            "0.8813559322033897\n",
            "8\n",
            "0.6334661354581673\n",
            "9\n",
            "0.7484143763213529\n",
            "10\n",
            "0.7372881355932204\n",
            "11\n",
            "0.8239845261121858\n",
            "12\n",
            "0.8767676767676768\n",
            "13\n",
            "0.77734375\n",
            "14\n",
            "0.7532467532467533\n",
            "15\n",
            "0.6463414634146342\n",
            "16\n",
            "0.6800804828973843\n",
            "17\n",
            "0.8531187122736418\n",
            "18\n",
            "0.7048832271762208\n",
            "19\n",
            "0.7967145790554415\n",
            "20\n",
            "0.8804780876494025\n",
            "21\n",
            "0.6804979253112033\n",
            "22\n",
            "0.5933609958506224\n",
            "23\n",
            "0.8612836438923395\n",
            "24\n",
            "0.8470588235294119\n",
            "25\n",
            "0.8452380952380952\n",
            "26\n",
            "0.7372549019607844\n",
            "27\n",
            "0.8593448940269749\n",
            "28\n",
            "0.8297455968688845\n",
            "29\n",
            "0.8622754491017964\n",
            "30\n",
            "0.8906250000000001\n",
            "31\n",
            "0.8396039603960396\n",
            "32\n",
            "0.8866799204771372\n",
            "33\n",
            "0.9819639278557115\n",
            "34\n",
            "0.8525896414342629\n",
            "35\n",
            "0.8801571709233792\n",
            "36\n",
            "0.7775467775467776\n",
            "37\n",
            "0.6307385229540918\n",
            "38\n",
            "0.8425357873210634\n",
            "39\n",
            "0.5929203539823008\n",
            "40\n",
            "0.9052224371373307\n",
            "41\n",
            "0.8030888030888031\n",
            "42\n",
            "0.7235772357723577\n",
            "43\n",
            "0.837782340862423\n",
            "44\n",
            "0.8394584139264991\n",
            "45\n",
            "0.8982725527831094\n",
            "46\n",
            "0.749498997995992\n",
            "47\n",
            "0.7049180327868853\n",
            "48\n",
            "0.804642166344294\n",
            "49\n",
            "0.6701030927835052\n",
            "50\n",
            "0.6877323420074349\n",
            "51\n",
            "0.9098196392785571\n",
            "52\n",
            "0.8317214700193424\n",
            "53\n",
            "0.7813765182186235\n",
            "54\n",
            "0.9098039215686274\n",
            "55\n",
            "0.8622754491017964\n",
            "56\n",
            "0.6354775828460039\n",
            "57\n",
            "0.7456896551724138\n",
            "58\n",
            "0.7541666666666667\n",
            "59\n",
            "0.7670103092783506\n",
            "60\n",
            "0.817829457364341\n",
            "61\n",
            "0.871369294605809\n",
            "62\n",
            "0.7861271676300576\n",
            "63\n",
            "0.9456740442655935\n",
            "64\n",
            "0.9102296450939457\n",
            "65\n",
            "0.8994082840236687\n",
            "66\n",
            "0.7668593448940271\n",
            "67\n",
            "0.6801470588235293\n",
            "68\n",
            "0.8927875243664718\n",
            "69\n",
            "0.9158512720156556\n",
            "70\n",
            "0.9011857707509882\n",
            "71\n",
            "0.8065173116089613\n",
            "72\n",
            "0.8213552361396304\n",
            "73\n",
            "0.7447698744769874\n",
            "74\n",
            "0.8475991649269311\n",
            "75\n",
            "0.9151873767258383\n",
            "76\n",
            "0.8987854251012145\n",
            "77\n",
            "0.5891783567134269\n",
            "78\n",
            "0.8853754940711464\n",
            "79\n",
            "0.8127490039840637\n",
            "80\n",
            "0.7613412228796845\n",
            "81\n",
            "0.8571428571428571\n",
            "82\n",
            "0.6680584551148225\n",
            "83\n",
            "0.841897233201581\n",
            "84\n",
            "0.7037773359840954\n",
            "85\n",
            "0.8135593220338984\n",
            "86\n",
            "0.8954635108481263\n",
            "87\n",
            "0.7010309278350516\n",
            "88\n",
            "0.899803536345776\n",
            "89\n",
            "0.7663934426229508\n",
            "90\n",
            "0.900398406374502\n",
            "91\n",
            "0.9227722772277228\n",
            "92\n",
            "0.8343815513626834\n",
            "93\n",
            "0.5146198830409358\n",
            "94\n",
            "0.7722772277227723\n",
            "95\n",
            "0.8305785123966943\n",
            "96\n",
            "0.7102803738317756\n",
            "97\n",
            "0.8732394366197184\n",
            "98\n",
            "0.750499001996008\n",
            "99\n",
            "0.6455696202531646\n",
            "100\n",
            "0.8617234468937875\n",
            "accuracy\n"
          ]
        },
        {
          "output_type": "error",
          "ename": "TypeError",
          "evalue": "ignored",
          "traceback": [
            "\u001b[0;31m---------------------------------------------------------------------------\u001b[0m",
            "\u001b[0;31mTypeError\u001b[0m                                 Traceback (most recent call last)",
            "\u001b[0;32m<ipython-input-67-cef2d689d1d7>\u001b[0m in \u001b[0;36m<module>\u001b[0;34m()\u001b[0m\n\u001b[1;32m      1\u001b[0m \u001b[0;32mfor\u001b[0m \u001b[0mi\u001b[0m\u001b[0;34m,\u001b[0m \u001b[0mj\u001b[0m \u001b[0;32min\u001b[0m \u001b[0mclasf_dict\u001b[0m\u001b[0;34m.\u001b[0m\u001b[0mitems\u001b[0m\u001b[0;34m(\u001b[0m\u001b[0;34m)\u001b[0m\u001b[0;34m:\u001b[0m\u001b[0;34m\u001b[0m\u001b[0;34m\u001b[0m\u001b[0m\n\u001b[1;32m      2\u001b[0m   \u001b[0mprint\u001b[0m\u001b[0;34m(\u001b[0m\u001b[0mi\u001b[0m\u001b[0;34m)\u001b[0m\u001b[0;34m\u001b[0m\u001b[0;34m\u001b[0m\u001b[0m\n\u001b[0;32m----> 3\u001b[0;31m   \u001b[0mprint\u001b[0m\u001b[0;34m(\u001b[0m\u001b[0mj\u001b[0m\u001b[0;34m[\u001b[0m\u001b[0;34m\"f1-score\"\u001b[0m\u001b[0;34m]\u001b[0m\u001b[0;34m)\u001b[0m\u001b[0;34m\u001b[0m\u001b[0;34m\u001b[0m\u001b[0m\n\u001b[0m",
            "\u001b[0;31mTypeError\u001b[0m: 'float' object is not subscriptable"
          ]
        }
      ]
    },
    {
      "cell_type": "code",
      "source": [
        "class_f1_scores={}\n",
        "#Loop through classification report dictionary items\n",
        "for i,j in clasf_dict.items():\n",
        "  if i == \"accuracy\":\n",
        "    break #stop when we get to the accuracy key\n",
        "  else:\n",
        "    #Put the class names and f1-scores to new dictionary\n",
        "    class_f1_scores[class_names[int(i)]] = j[\"f1-score\"]\n",
        "class_f1_scores"
      ],
      "metadata": {
        "colab": {
          "base_uri": "https://localhost:8080/"
        },
        "id": "_3ZkM7cgKM9J",
        "outputId": "4c60889b-6806-45b4-875d-a9d3c0a57cc4"
      },
      "execution_count": 55,
      "outputs": [
        {
          "output_type": "execute_result",
          "data": {
            "text/plain": [
              "{'apple_pie': 0.6008403361344538,\n",
              " 'baby_back_ribs': 0.753747323340471,\n",
              " 'baklava': 0.8454011741682975,\n",
              " 'beef_carpaccio': 0.8271604938271604,\n",
              " 'beef_tartare': 0.748091603053435,\n",
              " 'beet_salad': 0.6752136752136753,\n",
              " 'beignets': 0.857707509881423,\n",
              " 'bibimbap': 0.8813559322033897,\n",
              " 'bread_pudding': 0.6334661354581673,\n",
              " 'breakfast_burrito': 0.7484143763213529,\n",
              " 'bruschetta': 0.7372881355932204,\n",
              " 'caesar_salad': 0.8239845261121858,\n",
              " 'cannoli': 0.8767676767676768,\n",
              " 'caprese_salad': 0.77734375,\n",
              " 'carrot_cake': 0.7532467532467533,\n",
              " 'ceviche': 0.6463414634146342,\n",
              " 'cheese_plate': 0.8531187122736418,\n",
              " 'cheesecake': 0.6800804828973843,\n",
              " 'chicken_curry': 0.7048832271762208,\n",
              " 'chicken_quesadilla': 0.7967145790554415,\n",
              " 'chicken_wings': 0.8804780876494025,\n",
              " 'chocolate_cake': 0.6804979253112033,\n",
              " 'chocolate_mousse': 0.5933609958506224,\n",
              " 'churros': 0.8612836438923395,\n",
              " 'clam_chowder': 0.8470588235294119,\n",
              " 'club_sandwich': 0.8452380952380952,\n",
              " 'crab_cakes': 0.7372549019607844,\n",
              " 'creme_brulee': 0.8593448940269749,\n",
              " 'croque_madame': 0.8297455968688845,\n",
              " 'cup_cakes': 0.8622754491017964,\n",
              " 'deviled_eggs': 0.8906250000000001,\n",
              " 'donuts': 0.8396039603960396,\n",
              " 'dumplings': 0.8866799204771372,\n",
              " 'edamame': 0.9819639278557115,\n",
              " 'eggs_benedict': 0.8525896414342629,\n",
              " 'escargots': 0.8801571709233792,\n",
              " 'falafel': 0.7775467775467776,\n",
              " 'filet_mignon': 0.6307385229540918,\n",
              " 'fish_and_chips': 0.8425357873210634,\n",
              " 'foie_gras': 0.5929203539823008,\n",
              " 'french_fries': 0.9052224371373307,\n",
              " 'french_onion_soup': 0.8030888030888031,\n",
              " 'french_toast': 0.7235772357723577,\n",
              " 'fried_calamari': 0.837782340862423,\n",
              " 'fried_rice': 0.8394584139264991,\n",
              " 'frozen_yogurt': 0.8982725527831094,\n",
              " 'garlic_bread': 0.749498997995992,\n",
              " 'gnocchi': 0.7049180327868853,\n",
              " 'greek_salad': 0.804642166344294,\n",
              " 'grilled_cheese_sandwich': 0.6701030927835052,\n",
              " 'grilled_salmon': 0.6877323420074349,\n",
              " 'guacamole': 0.9098196392785571,\n",
              " 'gyoza': 0.8317214700193424,\n",
              " 'hamburger': 0.7813765182186235,\n",
              " 'hot_and_sour_soup': 0.9098039215686274,\n",
              " 'hot_dog': 0.8622754491017964,\n",
              " 'huevos_rancheros': 0.6354775828460039,\n",
              " 'hummus': 0.7456896551724138,\n",
              " 'ice_cream': 0.7541666666666667,\n",
              " 'lasagna': 0.7670103092783506,\n",
              " 'lobster_bisque': 0.817829457364341,\n",
              " 'lobster_roll_sandwich': 0.871369294605809,\n",
              " 'macaroni_and_cheese': 0.7861271676300576,\n",
              " 'macarons': 0.9456740442655935,\n",
              " 'miso_soup': 0.9102296450939457,\n",
              " 'mussels': 0.8994082840236687,\n",
              " 'nachos': 0.7668593448940271,\n",
              " 'omelette': 0.6801470588235293,\n",
              " 'onion_rings': 0.8927875243664718,\n",
              " 'oysters': 0.9158512720156556,\n",
              " 'pad_thai': 0.9011857707509882,\n",
              " 'paella': 0.8065173116089613,\n",
              " 'pancakes': 0.8213552361396304,\n",
              " 'panna_cotta': 0.7447698744769874,\n",
              " 'peking_duck': 0.8475991649269311,\n",
              " 'pho': 0.9151873767258383,\n",
              " 'pizza': 0.8987854251012145,\n",
              " 'pork_chop': 0.5891783567134269,\n",
              " 'poutine': 0.8853754940711464,\n",
              " 'prime_rib': 0.8127490039840637,\n",
              " 'pulled_pork_sandwich': 0.7613412228796845,\n",
              " 'ramen': 0.8571428571428571,\n",
              " 'ravioli': 0.6680584551148225,\n",
              " 'red_velvet_cake': 0.841897233201581,\n",
              " 'risotto': 0.7037773359840954,\n",
              " 'samosa': 0.8135593220338984,\n",
              " 'sashimi': 0.8954635108481263,\n",
              " 'scallops': 0.7010309278350516,\n",
              " 'seaweed_salad': 0.899803536345776,\n",
              " 'shrimp_and_grits': 0.7663934426229508,\n",
              " 'spaghetti_bolognese': 0.900398406374502,\n",
              " 'spaghetti_carbonara': 0.9227722772277228,\n",
              " 'spring_rolls': 0.8343815513626834,\n",
              " 'steak': 0.5146198830409358,\n",
              " 'strawberry_shortcake': 0.7722772277227723,\n",
              " 'sushi': 0.8305785123966943,\n",
              " 'tacos': 0.7102803738317756,\n",
              " 'takoyaki': 0.8732394366197184,\n",
              " 'tiramisu': 0.750499001996008,\n",
              " 'tuna_tartare': 0.6455696202531646,\n",
              " 'waffles': 0.8617234468937875}"
            ]
          },
          "metadata": {},
          "execution_count": 55
        }
      ]
    },
    {
      "cell_type": "code",
      "source": [
        "#For easier visualization, turn the dictionary into a dataframe\n",
        "import pandas as pd\n",
        "f1_values=pd.DataFrame({\"class_names\":list(class_f1_scores.keys()),\n",
        "                        \"f1-score\":list(class_f1_scores.values())}).sort_values(\"f1-score\", ascending=False)"
      ],
      "metadata": {
        "id": "GVHLHxoGK2Ce"
      },
      "execution_count": 57,
      "outputs": []
    },
    {
      "cell_type": "code",
      "source": [
        "f1_values.head()"
      ],
      "metadata": {
        "colab": {
          "base_uri": "https://localhost:8080/",
          "height": 206
        },
        "id": "ZmrSEL-RLbt2",
        "outputId": "74e9111d-e35d-4bb3-c6fb-0e5ae1feae0a"
      },
      "execution_count": 58,
      "outputs": [
        {
          "output_type": "execute_result",
          "data": {
            "text/plain": [
              "            class_names  f1-score\n",
              "33              edamame  0.981964\n",
              "63             macarons  0.945674\n",
              "91  spaghetti_carbonara  0.922772\n",
              "69              oysters  0.915851\n",
              "75                  pho  0.915187"
            ],
            "text/html": [
              "\n",
              "  <div id=\"df-25ed328d-d0bf-46da-9425-14da09034859\">\n",
              "    <div class=\"colab-df-container\">\n",
              "      <div>\n",
              "<style scoped>\n",
              "    .dataframe tbody tr th:only-of-type {\n",
              "        vertical-align: middle;\n",
              "    }\n",
              "\n",
              "    .dataframe tbody tr th {\n",
              "        vertical-align: top;\n",
              "    }\n",
              "\n",
              "    .dataframe thead th {\n",
              "        text-align: right;\n",
              "    }\n",
              "</style>\n",
              "<table border=\"1\" class=\"dataframe\">\n",
              "  <thead>\n",
              "    <tr style=\"text-align: right;\">\n",
              "      <th></th>\n",
              "      <th>class_names</th>\n",
              "      <th>f1-score</th>\n",
              "    </tr>\n",
              "  </thead>\n",
              "  <tbody>\n",
              "    <tr>\n",
              "      <th>33</th>\n",
              "      <td>edamame</td>\n",
              "      <td>0.981964</td>\n",
              "    </tr>\n",
              "    <tr>\n",
              "      <th>63</th>\n",
              "      <td>macarons</td>\n",
              "      <td>0.945674</td>\n",
              "    </tr>\n",
              "    <tr>\n",
              "      <th>91</th>\n",
              "      <td>spaghetti_carbonara</td>\n",
              "      <td>0.922772</td>\n",
              "    </tr>\n",
              "    <tr>\n",
              "      <th>69</th>\n",
              "      <td>oysters</td>\n",
              "      <td>0.915851</td>\n",
              "    </tr>\n",
              "    <tr>\n",
              "      <th>75</th>\n",
              "      <td>pho</td>\n",
              "      <td>0.915187</td>\n",
              "    </tr>\n",
              "  </tbody>\n",
              "</table>\n",
              "</div>\n",
              "      <button class=\"colab-df-convert\" onclick=\"convertToInteractive('df-25ed328d-d0bf-46da-9425-14da09034859')\"\n",
              "              title=\"Convert this dataframe to an interactive table.\"\n",
              "              style=\"display:none;\">\n",
              "        \n",
              "  <svg xmlns=\"http://www.w3.org/2000/svg\" height=\"24px\"viewBox=\"0 0 24 24\"\n",
              "       width=\"24px\">\n",
              "    <path d=\"M0 0h24v24H0V0z\" fill=\"none\"/>\n",
              "    <path d=\"M18.56 5.44l.94 2.06.94-2.06 2.06-.94-2.06-.94-.94-2.06-.94 2.06-2.06.94zm-11 1L8.5 8.5l.94-2.06 2.06-.94-2.06-.94L8.5 2.5l-.94 2.06-2.06.94zm10 10l.94 2.06.94-2.06 2.06-.94-2.06-.94-.94-2.06-.94 2.06-2.06.94z\"/><path d=\"M17.41 7.96l-1.37-1.37c-.4-.4-.92-.59-1.43-.59-.52 0-1.04.2-1.43.59L10.3 9.45l-7.72 7.72c-.78.78-.78 2.05 0 2.83L4 21.41c.39.39.9.59 1.41.59.51 0 1.02-.2 1.41-.59l7.78-7.78 2.81-2.81c.8-.78.8-2.07 0-2.86zM5.41 20L4 18.59l7.72-7.72 1.47 1.35L5.41 20z\"/>\n",
              "  </svg>\n",
              "      </button>\n",
              "      \n",
              "  <style>\n",
              "    .colab-df-container {\n",
              "      display:flex;\n",
              "      flex-wrap:wrap;\n",
              "      gap: 12px;\n",
              "    }\n",
              "\n",
              "    .colab-df-convert {\n",
              "      background-color: #E8F0FE;\n",
              "      border: none;\n",
              "      border-radius: 50%;\n",
              "      cursor: pointer;\n",
              "      display: none;\n",
              "      fill: #1967D2;\n",
              "      height: 32px;\n",
              "      padding: 0 0 0 0;\n",
              "      width: 32px;\n",
              "    }\n",
              "\n",
              "    .colab-df-convert:hover {\n",
              "      background-color: #E2EBFA;\n",
              "      box-shadow: 0px 1px 2px rgba(60, 64, 67, 0.3), 0px 1px 3px 1px rgba(60, 64, 67, 0.15);\n",
              "      fill: #174EA6;\n",
              "    }\n",
              "\n",
              "    [theme=dark] .colab-df-convert {\n",
              "      background-color: #3B4455;\n",
              "      fill: #D2E3FC;\n",
              "    }\n",
              "\n",
              "    [theme=dark] .colab-df-convert:hover {\n",
              "      background-color: #434B5C;\n",
              "      box-shadow: 0px 1px 3px 1px rgba(0, 0, 0, 0.15);\n",
              "      filter: drop-shadow(0px 1px 2px rgba(0, 0, 0, 0.3));\n",
              "      fill: #FFFFFF;\n",
              "    }\n",
              "  </style>\n",
              "\n",
              "      <script>\n",
              "        const buttonEl =\n",
              "          document.querySelector('#df-25ed328d-d0bf-46da-9425-14da09034859 button.colab-df-convert');\n",
              "        buttonEl.style.display =\n",
              "          google.colab.kernel.accessAllowed ? 'block' : 'none';\n",
              "\n",
              "        async function convertToInteractive(key) {\n",
              "          const element = document.querySelector('#df-25ed328d-d0bf-46da-9425-14da09034859');\n",
              "          const dataTable =\n",
              "            await google.colab.kernel.invokeFunction('convertToInteractive',\n",
              "                                                     [key], {});\n",
              "          if (!dataTable) return;\n",
              "\n",
              "          const docLinkHtml = 'Like what you see? Visit the ' +\n",
              "            '<a target=\"_blank\" href=https://colab.research.google.com/notebooks/data_table.ipynb>data table notebook</a>'\n",
              "            + ' to learn more about interactive tables.';\n",
              "          element.innerHTML = '';\n",
              "          dataTable['output_type'] = 'display_data';\n",
              "          await google.colab.output.renderOutput(dataTable, element);\n",
              "          const docLink = document.createElement('div');\n",
              "          docLink.innerHTML = docLinkHtml;\n",
              "          element.appendChild(docLink);\n",
              "        }\n",
              "      </script>\n",
              "    </div>\n",
              "  </div>\n",
              "  "
            ]
          },
          "metadata": {},
          "execution_count": 58
        }
      ]
    },
    {
      "cell_type": "code",
      "source": [
        "#Let's visualize it as a graph\n",
        "import matplotlib.pyplot as plt\n",
        "\n",
        "fig, ax = plt.subplots(figsize=(12,25))\n",
        "scores = ax.barh(range(len(f1_values)), f1_values[\"f1-score\"].values)\n",
        "ax.set_yticks(range(len(f1_values)))\n",
        "ax.set_xlabel(\"F1-score\")\n",
        "ax.set_yticklabels(f1_values[\"class_names\"])\n",
        "ax.set_title(\"F1-Scores for Food101 AI model\")\n",
        "ax.invert_yaxis()\n",
        "\n",
        "#This part was taken from stackoverflow which is brilliant\n",
        "def autolabel(x):\n",
        "  for y in x:\n",
        "    width = y.get_width()\n",
        "    ax.text(1.03*width, y.get_y() + y.get_height()/1.5,\n",
        "            f\"{width:.2f}\",\n",
        "            ha=\"center\", va=\"bottom\")\n",
        "autolabel(scores)"
      ],
      "metadata": {
        "colab": {
          "base_uri": "https://localhost:8080/",
          "height": 1000
        },
        "id": "dn8LTUpSLgdv",
        "outputId": "f0caf07e-f9d4-45f2-b01f-75d4ce67624f"
      },
      "execution_count": 68,
      "outputs": [
        {
          "output_type": "display_data",
          "data": {
            "text/plain": [
              "<Figure size 864x1800 with 1 Axes>"
            ],
            "image/png": "[encoded data removed]"
          },
          "metadata": {
            "needs_background": "light"
          }
        }
      ]
    },
    {
      "cell_type": "code",
      "source": [
        ""
      ],
      "metadata": {
        "id": "ovTY_oWWNDo6"
      },
      "execution_count": null,
      "outputs": []
    }
  ]
}
